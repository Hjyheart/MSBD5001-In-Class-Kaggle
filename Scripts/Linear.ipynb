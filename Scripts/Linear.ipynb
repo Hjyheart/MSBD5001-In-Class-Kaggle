{
 "cells": [
  {
   "cell_type": "code",
   "execution_count": 141,
   "metadata": {},
   "outputs": [],
   "source": [
    "from sklearn import linear_model\n",
    "import joblib\n",
    "from clean import predict_data_prpare, clean_test, training_data_prpare\n",
    "import pandas as pd\n",
    "import numpy as np\n",
    "from sklearn.ensemble import AdaBoostRegressor\n",
    "\n",
    "np.set_printoptions(precision=3, suppress=True)"
   ]
  },
  {
   "cell_type": "code",
   "execution_count": 142,
   "metadata": {},
   "outputs": [],
   "source": [
    "cats = joblib.load('./cats.pkl')\n",
    "genres = joblib.load('./genres.pkl')\n",
    "tags = joblib.load('./tags.pkl')"
   ]
  },
  {
   "cell_type": "code",
   "execution_count": 143,
   "metadata": {},
   "outputs": [],
   "source": [
    "test_df = pd.read_csv('../Data/test.csv')"
   ]
  },
  {
   "cell_type": "code",
   "execution_count": 144,
   "metadata": {},
   "outputs": [],
   "source": [
    "test_df = clean_test(test_df)"
   ]
  },
  {
   "cell_type": "code",
   "execution_count": 145,
   "metadata": {},
   "outputs": [],
   "source": [
    "t_v = joblib.load('./training_vectors.pkl')"
   ]
  },
  {
   "cell_type": "code",
   "execution_count": 146,
   "metadata": {},
   "outputs": [],
   "source": [
    "X = t_v['X']\n",
    "Y = t_v['Y']"
   ]
  },
  {
   "cell_type": "code",
   "execution_count": null,
   "metadata": {},
   "outputs": [],
   "source": []
  },
  {
   "cell_type": "code",
   "execution_count": 147,
   "metadata": {},
   "outputs": [],
   "source": [
    "gdb = AdaBoostRegressor(n_estimators=100)"
   ]
  },
  {
   "cell_type": "code",
   "execution_count": 148,
   "metadata": {},
   "outputs": [
    {
     "data": {
      "text/plain": [
       "AdaBoostRegressor(base_estimator=None, learning_rate=1.0, loss='linear',\n",
       "                  n_estimators=100, random_state=None)"
      ]
     },
     "execution_count": 148,
     "metadata": {},
     "output_type": "execute_result"
    }
   ],
   "source": [
    "gdb.fit(X, Y)"
   ]
  },
  {
   "cell_type": "code",
   "execution_count": 149,
   "metadata": {},
   "outputs": [],
   "source": [
    "gdb_r = gdb.predict(test_x) * 113.8"
   ]
  },
  {
   "cell_type": "code",
   "execution_count": 153,
   "metadata": {},
   "outputs": [
    {
     "data": {
      "text/plain": [
       "array([ 6.406, 11.473,  4.275,  4.416,  5.905,  6.127,  4.354,  4.89 ,\n",
       "       16.692,  7.28 ,  8.309,  4.577,  7.838,  5.494,  7.455,  5.711,\n",
       "        7.113,  5.122,  7.091,  6.014,  4.354,  6.968,  3.493,  3.921,\n",
       "        4.945,  6.014,  4.354,  4.577,  7.091,  7.376,  4.977,  6.278,\n",
       "        6.127,  4.977,  6.278,  4.977,  3.082,  5.752,  7.28 ,  4.977,\n",
       "        5.494,  3.456,  8.309,  6.127,  6.175,  6.72 ,  6.127,  5.15 ,\n",
       "        4.89 ,  6.999, 10.035,  3.568,  5.278, 11.192,  5.15 ,  6.014,\n",
       "        5.122,  7.724,  5.15 ,  5.659,  6.278,  5.494,  4.86 , 12.097,\n",
       "        5.325,  5.659,  4.416,  5.122,  7.664,  4.89 ,  5.122,  3.921,\n",
       "        4.945, 12.245,  6.495, 17.982,  6.278,  5.278,  7.113,  7.091,\n",
       "        5.115,  6.014,  5.122,  8.488, 12.88 ,  4.302,  4.89 ,  4.86 ,\n",
       "       18.493,  6.72 ])"
      ]
     },
     "execution_count": 153,
     "metadata": {},
     "output_type": "execute_result"
    }
   ],
   "source": [
    "gdb_r"
   ]
  },
  {
   "cell_type": "code",
   "execution_count": null,
   "metadata": {},
   "outputs": [],
   "source": []
  },
  {
   "cell_type": "code",
   "execution_count": null,
   "metadata": {},
   "outputs": [],
   "source": []
  },
  {
   "cell_type": "code",
   "execution_count": null,
   "metadata": {},
   "outputs": [],
   "source": []
  },
  {
   "cell_type": "code",
   "execution_count": 96,
   "metadata": {},
   "outputs": [],
   "source": [
    "test_x = predict_data_prpare(test_df)"
   ]
  },
  {
   "cell_type": "code",
   "execution_count": 97,
   "metadata": {},
   "outputs": [],
   "source": [
    "reg = linear_model.RidgeCV(alphas=[132.5, 132.6, 132.7, 132.8, 132.9, 133, 133.1, 133.2, 133.3, 133.4, 133.5, 133.6])\n",
    "\n",
    "# lass = linear_model.LassoCV(alphas=[1, 10, 100, 1000, 20000000])\n"
   ]
  },
  {
   "cell_type": "code",
   "execution_count": 98,
   "metadata": {},
   "outputs": [
    {
     "data": {
      "text/plain": [
       "RidgeCV(alphas=array([132.5, 132.6, 132.7, 132.8, 132.9, 133. , 133.1, 133.2, 133.3,\n",
       "       133.4, 133.5, 133.6]),\n",
       "        cv=None, fit_intercept=True, gcv_mode=None, normalize=False,\n",
       "        scoring=None, store_cv_values=False)"
      ]
     },
     "execution_count": 98,
     "metadata": {},
     "output_type": "execute_result"
    }
   ],
   "source": [
    "reg.fit(X, Y)\n",
    "# lass.fit(X, Y)"
   ]
  },
  {
   "cell_type": "code",
   "execution_count": 99,
   "metadata": {},
   "outputs": [
    {
     "data": {
      "text/plain": [
       "133.4"
      ]
     },
     "execution_count": 99,
     "metadata": {},
     "output_type": "execute_result"
    }
   ],
   "source": [
    "reg.alpha_\n",
    "# lass.alpha_"
   ]
  },
  {
   "cell_type": "code",
   "execution_count": null,
   "metadata": {},
   "outputs": [],
   "source": []
  },
  {
   "cell_type": "code",
   "execution_count": null,
   "metadata": {},
   "outputs": [],
   "source": []
  },
  {
   "cell_type": "code",
   "execution_count": null,
   "metadata": {},
   "outputs": [],
   "source": []
  },
  {
   "cell_type": "code",
   "execution_count": null,
   "metadata": {},
   "outputs": [],
   "source": []
  },
  {
   "cell_type": "code",
   "execution_count": null,
   "metadata": {},
   "outputs": [],
   "source": []
  },
  {
   "cell_type": "code",
   "execution_count": 122,
   "metadata": {},
   "outputs": [],
   "source": [
    "# rid = linear_model.Ridge(alpha=133.4)\n",
    "rid = linear_model.LinearRegression()"
   ]
  },
  {
   "cell_type": "code",
   "execution_count": 123,
   "metadata": {},
   "outputs": [
    {
     "data": {
      "text/plain": [
       "LinearRegression(copy_X=True, fit_intercept=True, n_jobs=None, normalize=False)"
      ]
     },
     "execution_count": 123,
     "metadata": {},
     "output_type": "execute_result"
    }
   ],
   "source": [
    "rid.fit(X, Y)"
   ]
  },
  {
   "cell_type": "code",
   "execution_count": 124,
   "metadata": {},
   "outputs": [],
   "source": [
    "r = rid.predict(test_x)"
   ]
  },
  {
   "cell_type": "code",
   "execution_count": 125,
   "metadata": {},
   "outputs": [],
   "source": [
    "for i in range(len(r)):\n",
    "    if r[i] < 0:\n",
    "        r[i] = 0\n",
    "    elif r[i] > 1:\n",
    "        r[i] = 1\n",
    "    else:\n",
    "        r[i] = round(r[i], 3)"
   ]
  },
  {
   "cell_type": "code",
   "execution_count": 126,
   "metadata": {},
   "outputs": [],
   "source": [
    "r *= 113.8"
   ]
  },
  {
   "cell_type": "code",
   "execution_count": 127,
   "metadata": {},
   "outputs": [
    {
     "data": {
      "text/plain": [
       "array([10.583,  7.283,  0.   ,  0.   , 29.36 ,  0.   ,  0.   ,  0.   ,\n",
       "       16.842, 13.77 , 22.191,  1.821,  9.445,  9.559,  5.462,  0.   ,\n",
       "       12.177,  0.   ,  0.   ,  0.   ,  3.755,  2.162,  0.   ,  0.683,\n",
       "        0.   ,  2.731,  0.   ,  0.   ,  9.787,  3.3  , 12.632, 10.47 ,\n",
       "        0.   ,  1.593,  0.797,  0.   ,  0.   ,  3.414,  6.942,  0.   ,\n",
       "        5.007,  0.   , 10.128,  3.983,  5.918, 11.039,  2.276, 10.242,\n",
       "        0.   ,  0.   , 23.101,  0.   ,  8.649,  0.341,  0.   ,  0.   ,\n",
       "        5.349,  8.649,  0.   ,  0.   ,  0.114,  4.097,  2.845,  9.104,\n",
       "        5.804,  3.983,  0.   , 10.242,  8.194,  0.   ,  2.731,  1.366,\n",
       "        0.   ,  2.845,  7.397, 19.118,  7.966,  0.   ,  9.218,  0.   ,\n",
       "       14.225,  0.228,  5.349,  9.218, 13.77 ,  0.   ,  0.   ,  4.78 ,\n",
       "        4.211, 11.608])"
      ]
     },
     "execution_count": 127,
     "metadata": {},
     "output_type": "execute_result"
    }
   ],
   "source": [
    "r"
   ]
  },
  {
   "cell_type": "code",
   "execution_count": 129,
   "metadata": {},
   "outputs": [
    {
     "data": {
      "text/plain": [
       "10.4696"
      ]
     },
     "execution_count": 129,
     "metadata": {},
     "output_type": "execute_result"
    }
   ],
   "source": [
    "r[31]"
   ]
  },
  {
   "cell_type": "code",
   "execution_count": 47,
   "metadata": {},
   "outputs": [],
   "source": [
    "pd.DataFrame({'playtime_forever': r}, columns=['playtime_forever']).to_csv('result_linear.csv', index_label='id')"
   ]
  },
  {
   "cell_type": "code",
   "execution_count": null,
   "metadata": {},
   "outputs": [],
   "source": []
  }
 ],
 "metadata": {
  "kernelspec": {
   "display_name": "Python 3",
   "language": "python",
   "name": "python3"
  },
  "language_info": {
   "codemirror_mode": {
    "name": "ipython",
    "version": 3
   },
   "file_extension": ".py",
   "mimetype": "text/x-python",
   "name": "python",
   "nbconvert_exporter": "python",
   "pygments_lexer": "ipython3",
   "version": "3.7.4"
  }
 },
 "nbformat": 4,
 "nbformat_minor": 2
}
