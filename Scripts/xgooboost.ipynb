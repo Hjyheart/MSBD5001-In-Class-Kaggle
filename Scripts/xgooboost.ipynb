{
 "cells": [
  {
   "cell_type": "code",
   "execution_count": 26,
   "metadata": {},
   "outputs": [],
   "source": [
    "import pandas as pd\n",
    "import numpy as np\n",
    "import xgboost as xgb\n",
    "import joblib\n",
    "from xgboost import plot_importance\n",
    "from matplotlib import pyplot as plt\n",
    "from sklearn.model_selection import train_test_split\n",
    "from sklearn.model_selection import cross_val_score"
   ]
  },
  {
   "cell_type": "code",
   "execution_count": 27,
   "metadata": {},
   "outputs": [],
   "source": [
    "t_v = joblib.load('./training_vectors.pkl')"
   ]
  },
  {
   "cell_type": "code",
   "execution_count": 28,
   "metadata": {},
   "outputs": [],
   "source": [
    "X = t_v['X']\n",
    "Y = t_v['Y']"
   ]
  },
  {
   "cell_type": "code",
   "execution_count": 199,
   "metadata": {},
   "outputs": [],
   "source": [
    "# params = {\n",
    "#     'learning_rate': 1.0,\n",
    "#     'n_estimators': 100,\n",
    "#     'booster': 'gbtree',\n",
    "#     'objective': 'reg:gamma',\n",
    "#     'gamma': 0.1,\n",
    "#     'max_depth': 9,\n",
    "#     'lambda': 3,\n",
    "#     'subsample': 0.9,\n",
    "#     'colsample_bytree': 0.9,\n",
    "#     'min_child_weight': 1,\n",
    "#     'silent': 1,\n",
    "#     'eta': 0.1,\n",
    "#     'seed': 1000,\n",
    "#     'nthread': 4,\n",
    "# }\n",
    "params = {\n",
    "    'learning_rate': 0.1,\n",
    "    'booster': 'gbtree',\n",
    "    'objective': 'reg:gamma',\n",
    "    'gamma': 0.1,\n",
    "    'max_depth': 7,\n",
    "    'lambda': 3,\n",
    "    'subsample': 0.9,\n",
    "    'colsample_bytree': 0.9,\n",
    "    'min_child_weight': 3,\n",
    "    'silent': 1,\n",
    "    'eta': 0.1,\n",
    "    'seed': 1000,\n",
    "    'nthread': 4,\n",
    "}"
   ]
  },
  {
   "cell_type": "code",
   "execution_count": 189,
   "metadata": {},
   "outputs": [],
   "source": [
    "dtrain = xgb.DMatrix(X, Y)"
   ]
  },
  {
   "cell_type": "code",
   "execution_count": 190,
   "metadata": {},
   "outputs": [],
   "source": [
    "num_rounds = 500"
   ]
  },
  {
   "cell_type": "code",
   "execution_count": 32,
   "metadata": {},
   "outputs": [],
   "source": [
    "cv = xgb.cv(params, dtrain, nfold=3, metrics='rmse', num_boost_round=10, early_stopping_rounds=50)"
   ]
  },
  {
   "cell_type": "code",
   "execution_count": 8,
   "metadata": {},
   "outputs": [],
   "source": [
    "# Tune estimator"
   ]
  },
  {
   "cell_type": "code",
   "execution_count": 171,
   "metadata": {},
   "outputs": [],
   "source": [
    "# base = 0\n",
    "# for i in range(10):\n",
    "#     base += 50\n",
    "#     params['n_estimators'] = base \n",
    "#     cv = xgb.cv(params, dtrain, nfold=5, metrics='rmse', num_boost_round=10)\n",
    "#     print(base)\n",
    "#     print('train_mean: {} train_std: {} test_mean: {} test_std: {}'.format(cv['train-rmse-mean'].mean(),\n",
    "#                                                                           cv['train-rmse-std'].mean(),\n",
    "#                                                                           cv['test-rmse-mean'].mean(),\n",
    "#                                                                           cv['test-rmse-std'].mean()))"
   ]
  },
  {
   "cell_type": "code",
   "execution_count": 10,
   "metadata": {},
   "outputs": [],
   "source": [
    "# Tune max_depth and min_weight"
   ]
  },
  {
   "cell_type": "code",
   "execution_count": 173,
   "metadata": {},
   "outputs": [],
   "source": [
    "# max_depth_min_weight_test = {\n",
    "#  'max_depth':range(3,10,2),\n",
    "#  'min_child_weight':range(1,10,2)\n",
    "# }\n",
    "\n",
    "# for max_depth in max_depth_min_weight_test['max_depth']:\n",
    "#     params['max_depth'] = max_depth\n",
    "#     for min_weight in max_depth_min_weight_test['min_child_weight']:\n",
    "#         params['min_child_weight'] = min_weight\n",
    "#         cv = xgb.cv(params, dtrain, nfold=5, metrics='rmse', num_boost_round=10)\n",
    "#         print(\"max_depth: {} min_weight: {}\".format(max_depth, min_weight))\n",
    "#         print('train_mean: {} train_std: {} test_mean: {} test_std: {}'.format(cv['train-rmse-mean'].mean(),\n",
    "#                                                                               cv['train-rmse-std'].mean(),\n",
    "#                                                                               cv['test-rmse-mean'].mean(),\n",
    "#                                                                               cv['test-rmse-std'].mean()))"
   ]
  },
  {
   "cell_type": "code",
   "execution_count": 144,
   "metadata": {},
   "outputs": [],
   "source": [
    "# max_depth_min_weight_test = {\n",
    "#  'max_depth':[8,9,10],\n",
    "#  'min_child_weight':[0,1,2]\n",
    "# }\n",
    "\n",
    "# for max_depth in max_depth_min_weight_test['max_depth']:\n",
    "#     params['max_depth'] = max_depth\n",
    "#     for min_weight in max_depth_min_weight_test['min_child_weight']:\n",
    "#         params['min_child_weight'] = min_weight\n",
    "#         cv = xgb.cv(params, dtrain, nfold=5, metrics='rmse', num_boost_round=10)\n",
    "#         print(\"max_depth: {} min_weight: {}\".format(max_depth, min_weight))\n",
    "#         print('train_mean: {} train_std: {} test_mean: {} test_std: {}'.format(cv['train-rmse-mean'].mean(),\n",
    "#                                                                               cv['train-rmse-std'].mean(),\n",
    "#                                                                               cv['test-rmse-mean'].mean(),\n",
    "#                                                                               cv['test-rmse-std'].mean()))"
   ]
  },
  {
   "cell_type": "code",
   "execution_count": 13,
   "metadata": {},
   "outputs": [],
   "source": [
    "# Tune gamma"
   ]
  },
  {
   "cell_type": "code",
   "execution_count": 146,
   "metadata": {},
   "outputs": [],
   "source": [
    "# gamma_test = {\n",
    "#  'gamma':[i/10.0 for i in range(0,9)]\n",
    "# }\n",
    "\n",
    "# for gamma in gamma_test['gamma']:\n",
    "#     params['gamma'] = gamma\n",
    "#     cv = xgb.cv(params, dtrain, nfold=5, metrics='rmse', num_boost_round=10)\n",
    "#     print(\"gamma: {}\".format(gamma))\n",
    "#     print('train_mean: {} train_std: {} test_mean: {} test_std: {}'.format(cv['train-rmse-mean'].mean(),\n",
    "#                                                                           cv['train-rmse-std'].mean(),\n",
    "#                                                                           cv['test-rmse-mean'].mean(),\n",
    "#                                                                           cv['test-rmse-std'].mean()))"
   ]
  },
  {
   "cell_type": "code",
   "execution_count": 15,
   "metadata": {},
   "outputs": [],
   "source": [
    "# Tune subsample and colsample_bytree"
   ]
  },
  {
   "cell_type": "code",
   "execution_count": 152,
   "metadata": {},
   "outputs": [],
   "source": [
    "# subsample_colsample_test = {\n",
    "#  'subsample':[i/10.0 for i in range(6,10)],\n",
    "#  'colsample_bytree':[i/10.0 for i in range(6,10)]\n",
    "# }\n",
    "\n",
    "# for subsample in subsample_colsample_test['subsample']:\n",
    "#     params['subsample'] = subsample\n",
    "#     for colsample_bytree in subsample_colsample_test['colsample_bytree']:\n",
    "#         params['colsample_bytree'] = colsample_bytree\n",
    "#         cv = xgb.cv(params, dtrain, nfold=5, metrics='rmse', num_boost_round=10)\n",
    "#         print(\"subsample: {} colsample_bytree: {}\".format(subsample, colsample_bytree))\n",
    "#         print('train_mean: {} train_std: {} test_mean: {} test_std: {}'.format(cv['train-rmse-mean'].mean(),\n",
    "#                                                                               cv['train-rmse-std'].mean(),\n",
    "#                                                                               cv['test-rmse-mean'].mean(),\n",
    "#                                                                               cv['test-rmse-std'].mean()))"
   ]
  },
  {
   "cell_type": "code",
   "execution_count": 151,
   "metadata": {},
   "outputs": [],
   "source": [
    "# subsample_colsample_test = {\n",
    "#  'subsample':[i/100.0 for i in range(85,95,5)],\n",
    "#  'colsample_bytree':[i/100.0 for i in range(85,95,5)]\n",
    "# }\n",
    "\n",
    "# for subsample in subsample_colsample_test['subsample']:\n",
    "#     params['subsample'] = subsample\n",
    "#     for colsample_bytree in subsample_colsample_test['colsample_bytree']:\n",
    "#         params['colsample_bytree'] = colsample_bytree\n",
    "#         cv = xgb.cv(params, dtrain, nfold=5, metrics='rmse', num_boost_round=10)\n",
    "#         print(\"subsample: {} colsample_bytree: {}\".format(subsample, colsample_bytree))\n",
    "#         print('train_mean: {} train_std: {} test_mean: {} test_std: {}'.format(cv['train-rmse-mean'].mean(),\n",
    "#                                                                               cv['train-rmse-std'].mean(),\n",
    "#                                                                               cv['test-rmse-mean'].mean(),\n",
    "#                                                                               cv['test-rmse-std'].mean()))"
   ]
  },
  {
   "cell_type": "code",
   "execution_count": 18,
   "metadata": {},
   "outputs": [],
   "source": [
    "# Tune Learning Rate"
   ]
  },
  {
   "cell_type": "code",
   "execution_count": 155,
   "metadata": {},
   "outputs": [],
   "source": [
    "# learning_rate_test = {\n",
    "#     'learning_rate': [i/100 for i in range(0,100,5)]\n",
    "# }\n",
    "\n",
    "\n",
    "# for learning_rate in learning_rate_test['learning_rate']:\n",
    "#     params['learning_rate'] = learning_rate\n",
    "#     cv = xgb.cv(params, dtrain, nfold=5, metrics='rmse', num_boost_round=10)\n",
    "#     print(\"learning_rate: {}\".format(learning_rate))\n",
    "#     print('train_mean: {} train_std: {} test_mean: {} test_std: {}'.format(cv['train-rmse-mean'].mean(),\n",
    "#                                                                               cv['train-rmse-std'].mean(),\n",
    "#                                                                               cv['test-rmse-mean'].mean(),\n",
    "#                                                                               cv['test-rmse-std'].mean()))"
   ]
  },
  {
   "cell_type": "code",
   "execution_count": 200,
   "metadata": {},
   "outputs": [],
   "source": [
    "plst = params.items()"
   ]
  },
  {
   "cell_type": "code",
   "execution_count": 201,
   "metadata": {},
   "outputs": [],
   "source": [
    "dtrain = xgb.DMatrix(X, Y)"
   ]
  },
  {
   "cell_type": "code",
   "execution_count": 202,
   "metadata": {},
   "outputs": [],
   "source": [
    "model = xgb.train(plst, dtrain, num_rounds)"
   ]
  },
  {
   "cell_type": "code",
   "execution_count": 203,
   "metadata": {},
   "outputs": [],
   "source": [
    "model.save_model('./xgboosting.model')"
   ]
  },
  {
   "cell_type": "code",
   "execution_count": 204,
   "metadata": {},
   "outputs": [],
   "source": [
    "# plot_importance(model)\n",
    "# plt.savefig('all_features.png', dpi=2000)"
   ]
  },
  {
   "cell_type": "code",
   "execution_count": 205,
   "metadata": {},
   "outputs": [],
   "source": [
    "test = xgb.DMatrix(X[:10])"
   ]
  },
  {
   "cell_type": "code",
   "execution_count": 206,
   "metadata": {},
   "outputs": [
    {
     "data": {
      "text/plain": [
       "array([2.8314039e-18, 1.7341839e-02, 4.4778413e-29, 9.6683788e-01,\n",
       "       8.0434551e+00, 1.1436890e+00, 1.7905301e-01, 1.1341082e-02,\n",
       "       9.3069533e-03, 2.4364449e-30], dtype=float32)"
      ]
     },
     "execution_count": 206,
     "metadata": {},
     "output_type": "execute_result"
    }
   ],
   "source": [
    "model.predict(test)*113.8"
   ]
  },
  {
   "cell_type": "code",
   "execution_count": 191,
   "metadata": {},
   "outputs": [],
   "source": [
    "# X[:10]"
   ]
  },
  {
   "cell_type": "code",
   "execution_count": 237,
   "metadata": {},
   "outputs": [
    {
     "data": {
      "text/plain": [
       "[0.0,\n",
       " 0.00014645577035735208,\n",
       " 0.0,\n",
       " 0.013473930872876393,\n",
       " 0.19625073227885176,\n",
       " 0.022993555946104277,\n",
       " 0.0013181019332161687,\n",
       " 0.00014645577035735208,\n",
       " 0.00014645577035735208,\n",
       " 0.0]"
      ]
     },
     "execution_count": 237,
     "metadata": {},
     "output_type": "execute_result"
    }
   ],
   "source": [
    "Y[:10]"
   ]
  },
  {
   "cell_type": "code",
   "execution_count": null,
   "metadata": {},
   "outputs": [],
   "source": []
  }
 ],
 "metadata": {
  "kernelspec": {
   "display_name": "Python 3",
   "language": "python",
   "name": "python3"
  },
  "language_info": {
   "codemirror_mode": {
    "name": "ipython",
    "version": 3
   },
   "file_extension": ".py",
   "mimetype": "text/x-python",
   "name": "python",
   "nbconvert_exporter": "python",
   "pygments_lexer": "ipython3",
   "version": "3.7.4"
  }
 },
 "nbformat": 4,
 "nbformat_minor": 2
}
