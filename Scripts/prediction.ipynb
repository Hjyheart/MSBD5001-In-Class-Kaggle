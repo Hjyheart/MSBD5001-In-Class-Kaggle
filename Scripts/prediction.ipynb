{
 "cells": [
  {
   "cell_type": "code",
   "execution_count": 167,
   "metadata": {},
   "outputs": [],
   "source": [
    "import pandas as pd\n",
    "import xgboost as xgb\n",
    "from datetime import timedelta\n",
    "import numpy as np"
   ]
  },
  {
   "cell_type": "code",
   "execution_count": 168,
   "metadata": {},
   "outputs": [],
   "source": [
    "bst = xgb.Booster({'nthread':4}) # init model\n",
    "bst.load_model(\"./xgboosting.model\")      # load data"
   ]
  },
  {
   "cell_type": "code",
   "execution_count": 169,
   "metadata": {},
   "outputs": [],
   "source": [
    "test_df = pd.read_csv('../Data/test.csv')"
   ]
  },
  {
   "cell_type": "code",
   "execution_count": null,
   "metadata": {},
   "outputs": [],
   "source": []
  },
  {
   "cell_type": "code",
   "execution_count": 170,
   "metadata": {},
   "outputs": [
    {
     "data": {
      "text/plain": [
       "24"
      ]
     },
     "execution_count": 170,
     "metadata": {},
     "output_type": "execute_result"
    }
   ],
   "source": [
    "tags = ['Atmospheric',\n",
    " 'Great Soundtrack',\n",
    " 'Story Rich',\n",
    " 'Multiplayer',\n",
    " 'RPG',\n",
    " 'Open World',\n",
    " 'Strategy',\n",
    " 'Co-op',\n",
    " 'Sci-fi',\n",
    " 'Fantasy',\n",
    " 'Masterpiece',\n",
    " 'Simulation',\n",
    " 'First-Person',\n",
    " '2D',\n",
    " 'Puzzle',\n",
    " 'Third Person',\n",
    " 'Shooter',\n",
    " 'Funny',\n",
    " 'Casual',\n",
    " 'Horror',\n",
    " 'Sandbox',\n",
    " 'Difficult',\n",
    " 'Survival',\n",
    " 'Exploration',\n",
    " 'Female Protagonist',\n",
    " 'Early Access',\n",
    " 'Comedy',\n",
    " 'FPS',\n",
    " 'Gore',\n",
    " 'Point & Click',\n",
    " 'Online Co-Op',\n",
    " 'Choices Matter',\n",
    " 'Classic',\n",
    " 'Space',\n",
    " 'VR',\n",
    " 'Turn-Based',\n",
    " 'Platformer',\n",
    " 'Violent',\n",
    " 'Dark',\n",
    " 'Moddable',\n",
    " 'Hack and Slash',\n",
    " 'Local Co-Op',\n",
    " 'Mystery',\n",
    " 'Stealth',\n",
    " 'Nudity',\n",
    " 'Retro',\n",
    " 'Psychological Horror',\n",
    " 'Action RPG',\n",
    " 'Building',\n",
    " 'Third-Person Shooter',\n",
    " 'Replay Value',\n",
    " 'Isometric',\n",
    " 'Pixel Graphics',\n",
    " 'Mature',\n",
    " 'Walking Simulator',\n",
    " 'Short',\n",
    " 'Character Customization',\n",
    " 'Tactical',\n",
    " 'Free to Play',\n",
    " 'Post-apocalyptic',\n",
    " 'Massively Multiplayer',\n",
    " 'Crafting',\n",
    " 'Controller',\n",
    " 'Rogue-like',\n",
    " 'RTS',\n",
    " 'Historical']\n",
    "len(cats)"
   ]
  },
  {
   "cell_type": "code",
   "execution_count": 171,
   "metadata": {},
   "outputs": [
    {
     "data": {
      "text/plain": [
       "20"
      ]
     },
     "execution_count": 171,
     "metadata": {},
     "output_type": "execute_result"
    }
   ],
   "source": [
    "genres = ['Adventure',\n",
    " 'Casual',\n",
    " 'Indie',\n",
    " 'RPG',\n",
    " 'Action',\n",
    " 'Strategy',\n",
    " 'Simulation',\n",
    " 'Racing',\n",
    " 'Sports',\n",
    " 'Massively Multiplayer',\n",
    " 'Sexual Content',\n",
    " 'Violent',\n",
    " 'Free to Play',\n",
    " 'Early Access',\n",
    " 'Audio Production',\n",
    " 'Gore',\n",
    " 'Design & Illustration',\n",
    " 'Nudity',\n",
    " 'Animation & Modeling',\n",
    " 'Utilities']\n",
    "len(genres)"
   ]
  },
  {
   "cell_type": "code",
   "execution_count": 172,
   "metadata": {},
   "outputs": [
    {
     "data": {
      "text/plain": [
       "66"
      ]
     },
     "execution_count": 172,
     "metadata": {},
     "output_type": "execute_result"
    }
   ],
   "source": [
    "cats = ['Multi-player',\n",
    " 'Co-op',\n",
    " 'Partial Controller Support',\n",
    " 'Steam Workshop',\n",
    " 'Steam Leaderboards',\n",
    " 'Online Multi-Player',\n",
    " 'Includes level editor',\n",
    " 'Shared/Split Screen',\n",
    " 'Cross-Platform Multiplayer',\n",
    " 'Online Co-op',\n",
    " 'Captions available',\n",
    " 'Stats',\n",
    " 'Local Co-op',\n",
    " 'Remote Play on Tablet',\n",
    " 'Remote Play on Phone',\n",
    " 'In-App Purchases',\n",
    " 'Local Multi-Player',\n",
    " 'Valve Anti-Cheat enabled',\n",
    " 'Remote Play on TV',\n",
    " 'VR Support',\n",
    " 'Commentary available',\n",
    " 'MMO',\n",
    " 'SteamVR Collectibles',\n",
    " 'Includes Source SDK']\n",
    "len(tags)"
   ]
  },
  {
   "cell_type": "code",
   "execution_count": 173,
   "metadata": {},
   "outputs": [],
   "source": [
    "def predict_data_prpare(data):\n",
    "    X = []\n",
    "    for item in data.iterrows():\n",
    "        row = item[1]\n",
    "        tmp = []\n",
    "        # genres\n",
    "        row_g = row['genres'].split(',')\n",
    "        for g in genres:\n",
    "            if g in row_g:\n",
    "                tmp.append(1)\n",
    "            else:\n",
    "                tmp.append(0)\n",
    "        # cats\n",
    "        row_c = row['categories'].split(',')\n",
    "        for c in cats:\n",
    "            if c in row_c:\n",
    "                tmp.append(1)\n",
    "            else:\n",
    "                tmp.append(0)\n",
    "        # tags\n",
    "        row_t = row['tags'].split(',')\n",
    "        for t in tags:\n",
    "            if t in row_t:\n",
    "                tmp.append(1)\n",
    "            else:\n",
    "                tmp.append(0)\n",
    "        # is_free\n",
    "        if row['is_free']:\n",
    "            tmp.append(1)\n",
    "        else:\n",
    "            tmp.append(0)\n",
    "        # price\n",
    "        tmp.append(row['price'])\n",
    "        # timegap\n",
    "        if not np.isnan(row['time_gap']):\n",
    "            tmp.append(row['time_gap'])\n",
    "        else:\n",
    "            tmp.append(0.5)\n",
    "        # average_review\n",
    "        if not np.isnan(row['average_review']):\n",
    "            tmp.append(row['average_review'])\n",
    "        else:\n",
    "            tmp.append(0.5)\n",
    "        \n",
    "        X.append(tmp)\n",
    "    \n",
    "    return X"
   ]
  },
  {
   "cell_type": "code",
   "execution_count": 174,
   "metadata": {},
   "outputs": [],
   "source": [
    "test_df['average_review'] = test_df['total_positive_reviews'] / (test_df['total_positive_reviews'] + test_df['total_negative_reviews'])"
   ]
  },
  {
   "cell_type": "code",
   "execution_count": 175,
   "metadata": {},
   "outputs": [],
   "source": [
    "test_df['purchase_date'] = pd.to_datetime(test_df['purchase_date'], infer_datetime_format=True)\n",
    "test_df['release_date'] = pd.to_datetime(test_df['release_date'], infer_datetime_format=True)"
   ]
  },
  {
   "cell_type": "code",
   "execution_count": 176,
   "metadata": {},
   "outputs": [],
   "source": [
    "test_df['time_gap'] = test_df['purchase_date'] - test_df['release_date']"
   ]
  },
  {
   "cell_type": "code",
   "execution_count": 177,
   "metadata": {},
   "outputs": [],
   "source": [
    "test_df['time_gap'] = (test_df['time_gap'] - timedelta(-481)) / (timedelta(4320) - timedelta(-481))"
   ]
  },
  {
   "cell_type": "code",
   "execution_count": 178,
   "metadata": {},
   "outputs": [],
   "source": [
    "test_df['price'] = test_df['price'] / 15999900.0"
   ]
  },
  {
   "cell_type": "code",
   "execution_count": 179,
   "metadata": {},
   "outputs": [],
   "source": [
    "# test_df"
   ]
  },
  {
   "cell_type": "code",
   "execution_count": 180,
   "metadata": {},
   "outputs": [],
   "source": [
    "X = predict_data_prpare(test_df)"
   ]
  },
  {
   "cell_type": "code",
   "execution_count": 181,
   "metadata": {},
   "outputs": [],
   "source": [
    "test_x = xgb.DMatrix(X)"
   ]
  },
  {
   "cell_type": "code",
   "execution_count": 182,
   "metadata": {},
   "outputs": [],
   "source": [
    "ans = bst.predict(test_x)"
   ]
  },
  {
   "cell_type": "code",
   "execution_count": 183,
   "metadata": {},
   "outputs": [],
   "source": [
    "ans *= 113.8"
   ]
  },
  {
   "cell_type": "code",
   "execution_count": 184,
   "metadata": {},
   "outputs": [
    {
     "data": {
      "text/plain": [
       "array([2.13674389e-09, 1.50542210e-08, 2.75389789e-06, 2.78837608e-20,\n",
       "       3.23203822e-05, 2.57898658e-03, 9.72016245e-09, 3.17779445e-16,\n",
       "       8.71901943e-12, 1.70453684e-04, 5.00316582e-06, 3.80072967e-14,\n",
       "       1.51936927e-12, 1.48062361e-06, 8.84397309e-07, 3.22365165e-02,\n",
       "       7.72679895e-02, 4.79312788e-04, 3.31774885e-07, 3.83327744e-04,\n",
       "       4.04505504e-13, 6.18646108e-02, 2.36978622e-07, 6.91878277e-10,\n",
       "       2.41139252e-03, 1.16573131e-06, 2.25723953e-12, 3.55003518e-03,\n",
       "       5.87243594e-05, 8.95740639e-04, 1.62219185e-05, 7.51329895e+02,\n",
       "       8.85380505e-05, 1.42486804e-11, 1.26104176e+00, 4.88465620e-18,\n",
       "       5.90504169e-05, 1.37968123e-01, 5.68098173e-08, 6.25089986e-13,\n",
       "       1.32111187e+01, 1.86445481e-09, 4.22764234e-02, 1.21895425e-07,\n",
       "       1.47519866e-04, 9.19172560e-09, 1.36806350e-02, 6.29970451e-11,\n",
       "       2.11375272e-16, 1.01494521e-01, 3.67916538e-03, 2.78228107e-10,\n",
       "       4.97340155e-11, 4.12305967e-09, 9.49744208e-05, 4.32672481e-10,\n",
       "       8.21447298e-02, 8.65555629e-02, 3.09878345e-10, 9.80899297e-03,\n",
       "       1.22956380e-05, 7.28685918e-05, 8.25049464e-17, 2.76997729e+03,\n",
       "       5.06314955e-12, 6.68622786e-04, 1.46139920e-01, 1.96259784e-16,\n",
       "       6.18462898e-02, 1.00337291e+00, 9.27955771e-05, 2.95668578e-04,\n",
       "       8.50836374e-03, 1.11306813e-02, 8.75925070e-06, 9.89692152e-01,\n",
       "       1.68901548e-04, 9.54848003e+00, 7.66904443e-04, 5.11868531e-03,\n",
       "       5.27016519e-09, 1.72345817e-01, 1.01639216e-07, 7.37068150e-03,\n",
       "       1.60233735e-03, 3.81752252e-05, 1.93056196e-11, 6.55399957e-09,\n",
       "       4.89803505e+00, 2.07472098e-04], dtype=float32)"
      ]
     },
     "execution_count": 184,
     "metadata": {},
     "output_type": "execute_result"
    }
   ],
   "source": [
    "ans"
   ]
  },
  {
   "cell_type": "code",
   "execution_count": 185,
   "metadata": {},
   "outputs": [],
   "source": [
    "for i in range(len(ans)):\n",
    "    ans[i] = round(ans[i], 2)"
   ]
  },
  {
   "cell_type": "code",
   "execution_count": 186,
   "metadata": {},
   "outputs": [
    {
     "data": {
      "text/plain": [
       "array([0.00000e+00, 0.00000e+00, 0.00000e+00, 0.00000e+00, 0.00000e+00,\n",
       "       0.00000e+00, 0.00000e+00, 0.00000e+00, 0.00000e+00, 0.00000e+00,\n",
       "       0.00000e+00, 0.00000e+00, 0.00000e+00, 0.00000e+00, 0.00000e+00,\n",
       "       3.00000e-02, 8.00000e-02, 0.00000e+00, 0.00000e+00, 0.00000e+00,\n",
       "       0.00000e+00, 6.00000e-02, 0.00000e+00, 0.00000e+00, 0.00000e+00,\n",
       "       0.00000e+00, 0.00000e+00, 0.00000e+00, 0.00000e+00, 0.00000e+00,\n",
       "       0.00000e+00, 7.51330e+02, 0.00000e+00, 0.00000e+00, 1.26000e+00,\n",
       "       0.00000e+00, 0.00000e+00, 1.40000e-01, 0.00000e+00, 0.00000e+00,\n",
       "       1.32100e+01, 0.00000e+00, 4.00000e-02, 0.00000e+00, 0.00000e+00,\n",
       "       0.00000e+00, 1.00000e-02, 0.00000e+00, 0.00000e+00, 1.00000e-01,\n",
       "       0.00000e+00, 0.00000e+00, 0.00000e+00, 0.00000e+00, 0.00000e+00,\n",
       "       0.00000e+00, 8.00000e-02, 9.00000e-02, 0.00000e+00, 1.00000e-02,\n",
       "       0.00000e+00, 0.00000e+00, 0.00000e+00, 2.76998e+03, 0.00000e+00,\n",
       "       0.00000e+00, 1.50000e-01, 0.00000e+00, 6.00000e-02, 1.00000e+00,\n",
       "       0.00000e+00, 0.00000e+00, 1.00000e-02, 1.00000e-02, 0.00000e+00,\n",
       "       9.90000e-01, 0.00000e+00, 9.55000e+00, 0.00000e+00, 1.00000e-02,\n",
       "       0.00000e+00, 1.70000e-01, 0.00000e+00, 1.00000e-02, 0.00000e+00,\n",
       "       0.00000e+00, 0.00000e+00, 0.00000e+00, 4.90000e+00, 0.00000e+00],\n",
       "      dtype=float32)"
      ]
     },
     "execution_count": 186,
     "metadata": {},
     "output_type": "execute_result"
    }
   ],
   "source": [
    "ans"
   ]
  },
  {
   "cell_type": "code",
   "execution_count": 188,
   "metadata": {},
   "outputs": [
    {
     "data": {
      "text/plain": [
       "2769.98"
      ]
     },
     "execution_count": 188,
     "metadata": {},
     "output_type": "execute_result"
    }
   ],
   "source": [
    "ans[63]"
   ]
  },
  {
   "cell_type": "code",
   "execution_count": 262,
   "metadata": {},
   "outputs": [],
   "source": [
    "pd.DataFrame({'id': [i for i in range(90)], 'playtime_forever': ans}, columns=['id', 'playtime_forever']).to_csv('result1.csv')"
   ]
  },
  {
   "cell_type": "code",
   "execution_count": null,
   "metadata": {},
   "outputs": [],
   "source": []
  },
  {
   "cell_type": "code",
   "execution_count": 148,
   "metadata": {},
   "outputs": [],
   "source": [
    "t = np.isnan(X)"
   ]
  },
  {
   "cell_type": "code",
   "execution_count": 149,
   "metadata": {},
   "outputs": [],
   "source": [
    "for i in range(len(t)):\n",
    "    for k in range(len(t[0])):\n",
    "        if t[i][k]:\n",
    "            print(k)"
   ]
  },
  {
   "cell_type": "code",
   "execution_count": 192,
   "metadata": {},
   "outputs": [
    {
     "data": {
      "text/plain": [
       "90"
      ]
     },
     "execution_count": 192,
     "metadata": {},
     "output_type": "execute_result"
    }
   ],
   "source": [
    "len(X)"
   ]
  },
  {
   "cell_type": "code",
   "execution_count": 45,
   "metadata": {},
   "outputs": [],
   "source": [
    "# all\n",
    "# array([0.000000e+00, 0.000000e+00, 0.000000e+00, 0.000000e+00,\n",
    "#        0.000000e+00, 2.000000e-02, 0.000000e+00, 0.000000e+00,\n",
    "#        0.000000e+00, 0.000000e+00, 0.000000e+00, 0.000000e+00,\n",
    "#        0.000000e+00, 0.000000e+00, 0.000000e+00, 0.000000e+00,\n",
    "#        1.000000e-02, 0.000000e+00, 0.000000e+00, 0.000000e+00,\n",
    "#        0.000000e+00, 1.000000e-02, 0.000000e+00, 0.000000e+00,\n",
    "#        0.000000e+00, 0.000000e+00, 0.000000e+00, 0.000000e+00,\n",
    "#        0.000000e+00, 0.000000e+00, 0.000000e+00, 1.442250e+03,\n",
    "#        0.000000e+00, 0.000000e+00, 5.000000e-02, 0.000000e+00,\n",
    "#        0.000000e+00, 4.060000e+00, 0.000000e+00, 0.000000e+00,\n",
    "#        2.290000e+01, 0.000000e+00, 0.000000e+00, 0.000000e+00,\n",
    "#        0.000000e+00, 0.000000e+00, 1.000000e-02, 0.000000e+00,\n",
    "#        0.000000e+00, 1.000000e-02, 0.000000e+00, 0.000000e+00,\n",
    "#        0.000000e+00, 0.000000e+00, 0.000000e+00, 0.000000e+00,\n",
    "#        1.000000e-02, 7.200000e-01, 0.000000e+00, 0.000000e+00,\n",
    "#        0.000000e+00, 0.000000e+00, 0.000000e+00, 3.613406e+04,\n",
    "#        0.000000e+00, 0.000000e+00, 6.000000e-02, 0.000000e+00,\n",
    "#        1.400000e-01, 1.700000e-01, 0.000000e+00, 0.000000e+00,\n",
    "#        0.000000e+00, 0.000000e+00, 0.000000e+00, 3.000000e-02,\n",
    "#        0.000000e+00, 1.120000e+00, 0.000000e+00, 0.000000e+00,\n",
    "#        0.000000e+00, 1.000000e-02, 0.000000e+00, 1.600000e-01,\n",
    "#        1.000000e-02, 0.000000e+00, 0.000000e+00, 0.000000e+00,\n",
    "#        3.180000e+00, 2.000000e-02], dtype=float32)"
   ]
  },
  {
   "cell_type": "code",
   "execution_count": null,
   "metadata": {},
   "outputs": [],
   "source": []
  }
 ],
 "metadata": {
  "kernelspec": {
   "display_name": "Python 3",
   "language": "python",
   "name": "python3"
  },
  "language_info": {
   "codemirror_mode": {
    "name": "ipython",
    "version": 3
   },
   "file_extension": ".py",
   "mimetype": "text/x-python",
   "name": "python",
   "nbconvert_exporter": "python",
   "pygments_lexer": "ipython3",
   "version": "3.7.4"
  }
 },
 "nbformat": 4,
 "nbformat_minor": 2
}
