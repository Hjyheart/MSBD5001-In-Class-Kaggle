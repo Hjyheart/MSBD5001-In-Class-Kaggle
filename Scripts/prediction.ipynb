{
 "cells": [
  {
   "cell_type": "code",
   "execution_count": 124,
   "metadata": {},
   "outputs": [],
   "source": [
    "import pandas as pd\n",
    "import xgboost as xgb\n",
    "from datetime import timedelta\n",
    "import numpy as np\n",
    "import joblib\n",
    "\n",
    "np.set_printoptions(precision=3, suppress=True)"
   ]
  },
  {
   "cell_type": "code",
   "execution_count": 125,
   "metadata": {},
   "outputs": [],
   "source": [
    "bst = xgb.Booster({'nthread':4}) # init model\n",
    "bst.load_model(\"./xgboosting.model\")      # load data"
   ]
  },
  {
   "cell_type": "code",
   "execution_count": 126,
   "metadata": {},
   "outputs": [],
   "source": [
    "test_df = pd.read_csv('../Data/test.csv')"
   ]
  },
  {
   "cell_type": "code",
   "execution_count": 127,
   "metadata": {},
   "outputs": [
    {
     "data": {
      "text/plain": [
       "66"
      ]
     },
     "execution_count": 127,
     "metadata": {},
     "output_type": "execute_result"
    }
   ],
   "source": [
    "len(tags)"
   ]
  },
  {
   "cell_type": "code",
   "execution_count": 128,
   "metadata": {},
   "outputs": [],
   "source": [
    "cats = joblib.load('./cats.pkl')"
   ]
  },
  {
   "cell_type": "code",
   "execution_count": 129,
   "metadata": {},
   "outputs": [],
   "source": [
    "genres = joblib.load('./genres.pkl')"
   ]
  },
  {
   "cell_type": "code",
   "execution_count": 130,
   "metadata": {},
   "outputs": [],
   "source": [
    "tags = joblib.load('./tags.pkl')"
   ]
  },
  {
   "cell_type": "code",
   "execution_count": 131,
   "metadata": {},
   "outputs": [],
   "source": [
    "def predict_data_prpare(data):\n",
    "    X = []\n",
    "    for item in data.iterrows():\n",
    "        row = item[1]\n",
    "        tmp = []\n",
    "        # genres\n",
    "        row_g = row['genres'].split(',')\n",
    "        for g in genres:\n",
    "            if g in row_g:\n",
    "                tmp.append(1)\n",
    "            else:\n",
    "                tmp.append(0)\n",
    "        # cats\n",
    "        row_c = row['categories'].split(',')\n",
    "        for c in cats:\n",
    "            if c in row_c:\n",
    "                tmp.append(1)\n",
    "            else:\n",
    "                tmp.append(0)\n",
    "        # tags\n",
    "        row_t = row['tags'].split(',')\n",
    "        for t in tags:\n",
    "            if t in row_t:\n",
    "                tmp.append(1)\n",
    "            else:\n",
    "                tmp.append(0)\n",
    "        # is_free\n",
    "        if row['is_free']:\n",
    "            tmp.append(1)\n",
    "        else:\n",
    "            tmp.append(0)\n",
    "        # price\n",
    "        tmp.append(row['price'])\n",
    "        # timegap\n",
    "        if not np.isnan(row['time_gap']):\n",
    "            tmp.append(row['time_gap'])\n",
    "        else:\n",
    "            tmp.append(0.5)\n",
    "        # average_review\n",
    "        if not np.isnan(row['average_review']):\n",
    "            tmp.append(row['average_review'])\n",
    "        else:\n",
    "            tmp.append(0.5)\n",
    "        \n",
    "        X.append(tmp)\n",
    "    \n",
    "    return X"
   ]
  },
  {
   "cell_type": "code",
   "execution_count": 132,
   "metadata": {},
   "outputs": [],
   "source": [
    "test_df['average_review'] = test_df['total_positive_reviews'] / (test_df['total_positive_reviews'] + test_df['total_negative_reviews'])"
   ]
  },
  {
   "cell_type": "code",
   "execution_count": 133,
   "metadata": {},
   "outputs": [],
   "source": [
    "test_df['purchase_date'] = pd.to_datetime(test_df['purchase_date'], infer_datetime_format=True)\n",
    "test_df['release_date'] = pd.to_datetime(test_df['release_date'], infer_datetime_format=True)"
   ]
  },
  {
   "cell_type": "code",
   "execution_count": 134,
   "metadata": {},
   "outputs": [],
   "source": [
    "test_df['time_gap'] = test_df['purchase_date'] - test_df['release_date']"
   ]
  },
  {
   "cell_type": "code",
   "execution_count": 135,
   "metadata": {},
   "outputs": [],
   "source": [
    "test_df['time_gap'] = (test_df['time_gap'] - timedelta(-481)) / (timedelta(4320) - timedelta(-481))"
   ]
  },
  {
   "cell_type": "code",
   "execution_count": 136,
   "metadata": {},
   "outputs": [],
   "source": [
    "test_df['price'] = test_df['price'] / 15999900.0"
   ]
  },
  {
   "cell_type": "code",
   "execution_count": 137,
   "metadata": {},
   "outputs": [],
   "source": [
    "# test_df"
   ]
  },
  {
   "cell_type": "code",
   "execution_count": 138,
   "metadata": {},
   "outputs": [],
   "source": [
    "X = predict_data_prpare(test_df)"
   ]
  },
  {
   "cell_type": "code",
   "execution_count": 139,
   "metadata": {},
   "outputs": [],
   "source": [
    "test_x = xgb.DMatrix(X)"
   ]
  },
  {
   "cell_type": "code",
   "execution_count": 140,
   "metadata": {},
   "outputs": [],
   "source": [
    "ans = bst.predict(test_x)"
   ]
  },
  {
   "cell_type": "code",
   "execution_count": null,
   "metadata": {},
   "outputs": [],
   "source": []
  },
  {
   "cell_type": "code",
   "execution_count": 141,
   "metadata": {},
   "outputs": [
    {
     "data": {
      "text/plain": [
       "array([ 0.   ,  0.   ,  0.   ,  0.   ,  0.   ,  0.002,  0.   ,  0.   ,\n",
       "        0.   ,  0.   ,  0.   ,  0.   ,  0.   ,  0.   ,  0.   ,  0.   ,\n",
       "        0.   ,  0.   ,  0.   ,  0.   ,  0.   ,  0.112,  0.   ,  0.   ,\n",
       "        0.   ,  0.   ,  0.   ,  0.   ,  0.   ,  0.   ,  0.   ,  1.655,\n",
       "        0.   ,  0.   ,  0.   ,  0.   ,  0.   ,  0.004,  0.   ,  0.   ,\n",
       "        0.091,  0.   ,  0.   ,  0.   ,  0.   ,  0.   ,  0.   ,  0.   ,\n",
       "        0.   ,  0.   ,  0.   ,  0.   ,  0.   ,  0.   ,  0.   ,  0.   ,\n",
       "        0.   ,  0.009,  0.   ,  0.   ,  0.   ,  0.   ,  0.   , 26.347,\n",
       "        0.   ,  0.   ,  0.   ,  0.   ,  0.001,  0.007,  0.   ,  0.   ,\n",
       "        0.   ,  0.   ,  0.   ,  0.003,  0.   ,  0.017,  0.   ,  0.   ,\n",
       "        0.   ,  0.   ,  0.   ,  0.   ,  0.   ,  0.   ,  0.   ,  0.   ,\n",
       "        0.035,  0.   ], dtype=float32)"
      ]
     },
     "execution_count": 141,
     "metadata": {},
     "output_type": "execute_result"
    }
   ],
   "source": [
    "ans"
   ]
  },
  {
   "cell_type": "code",
   "execution_count": 142,
   "metadata": {},
   "outputs": [],
   "source": [
    "for i in range(len(ans)):\n",
    "    ans[i] = round(ans[i], 3)\n",
    "    if ans[i] > 1:\n",
    "        ans[i] = 1.0"
   ]
  },
  {
   "cell_type": "code",
   "execution_count": 143,
   "metadata": {},
   "outputs": [],
   "source": [
    "ans *= 113.8"
   ]
  },
  {
   "cell_type": "code",
   "execution_count": 144,
   "metadata": {},
   "outputs": [
    {
     "data": {
      "text/plain": [
       "113.8"
      ]
     },
     "execution_count": 144,
     "metadata": {},
     "output_type": "execute_result"
    }
   ],
   "source": [
    "ans[31]"
   ]
  },
  {
   "cell_type": "code",
   "execution_count": 145,
   "metadata": {},
   "outputs": [
    {
     "data": {
      "text/plain": [
       "113.8"
      ]
     },
     "execution_count": 145,
     "metadata": {},
     "output_type": "execute_result"
    }
   ],
   "source": [
    "ans[63]"
   ]
  },
  {
   "cell_type": "code",
   "execution_count": 146,
   "metadata": {},
   "outputs": [
    {
     "data": {
      "text/plain": [
       "array([  0.   ,   0.   ,   0.   ,   0.   ,   0.   ,   0.228,   0.   ,\n",
       "         0.   ,   0.   ,   0.   ,   0.   ,   0.   ,   0.   ,   0.   ,\n",
       "         0.   ,   0.   ,   0.   ,   0.   ,   0.   ,   0.   ,   0.   ,\n",
       "        12.746,   0.   ,   0.   ,   0.   ,   0.   ,   0.   ,   0.   ,\n",
       "         0.   ,   0.   ,   0.   , 113.8  ,   0.   ,   0.   ,   0.   ,\n",
       "         0.   ,   0.   ,   0.455,   0.   ,   0.   ,  10.356,   0.   ,\n",
       "         0.   ,   0.   ,   0.   ,   0.   ,   0.   ,   0.   ,   0.   ,\n",
       "         0.   ,   0.   ,   0.   ,   0.   ,   0.   ,   0.   ,   0.   ,\n",
       "         0.   ,   1.024,   0.   ,   0.   ,   0.   ,   0.   ,   0.   ,\n",
       "       113.8  ,   0.   ,   0.   ,   0.   ,   0.   ,   0.114,   0.797,\n",
       "         0.   ,   0.   ,   0.   ,   0.   ,   0.   ,   0.341,   0.   ,\n",
       "         1.935,   0.   ,   0.   ,   0.   ,   0.   ,   0.   ,   0.   ,\n",
       "         0.   ,   0.   ,   0.   ,   0.   ,   3.983,   0.   ],\n",
       "      dtype=float32)"
      ]
     },
     "execution_count": 146,
     "metadata": {},
     "output_type": "execute_result"
    }
   ],
   "source": [
    "ans"
   ]
  },
  {
   "cell_type": "code",
   "execution_count": 147,
   "metadata": {},
   "outputs": [],
   "source": [
    "output = pd.DataFrame({'playtime_forever': ans}, columns=['playtime_forever'])"
   ]
  },
  {
   "cell_type": "code",
   "execution_count": 148,
   "metadata": {},
   "outputs": [],
   "source": [
    "output.to_csv('result5.csv', index_label='id')"
   ]
  },
  {
   "cell_type": "code",
   "execution_count": 148,
   "metadata": {},
   "outputs": [],
   "source": [
    "t = np.isnan(X)"
   ]
  },
  {
   "cell_type": "code",
   "execution_count": 149,
   "metadata": {},
   "outputs": [],
   "source": [
    "for i in range(len(t)):\n",
    "    for k in range(len(t[0])):\n",
    "        if t[i][k]:\n",
    "            print(k)"
   ]
  },
  {
   "cell_type": "code",
   "execution_count": 192,
   "metadata": {},
   "outputs": [
    {
     "data": {
      "text/plain": [
       "90"
      ]
     },
     "execution_count": 192,
     "metadata": {},
     "output_type": "execute_result"
    }
   ],
   "source": [
    "len(X)"
   ]
  },
  {
   "cell_type": "code",
   "execution_count": 45,
   "metadata": {},
   "outputs": [],
   "source": [
    "# all\n",
    "# array([0.000000e+00, 0.000000e+00, 0.000000e+00, 0.000000e+00,\n",
    "#        0.000000e+00, 2.000000e-02, 0.000000e+00, 0.000000e+00,\n",
    "#        0.000000e+00, 0.000000e+00, 0.000000e+00, 0.000000e+00,\n",
    "#        0.000000e+00, 0.000000e+00, 0.000000e+00, 0.000000e+00,\n",
    "#        1.000000e-02, 0.000000e+00, 0.000000e+00, 0.000000e+00,\n",
    "#        0.000000e+00, 1.000000e-02, 0.000000e+00, 0.000000e+00,\n",
    "#        0.000000e+00, 0.000000e+00, 0.000000e+00, 0.000000e+00,\n",
    "#        0.000000e+00, 0.000000e+00, 0.000000e+00, 1.442250e+03,\n",
    "#        0.000000e+00, 0.000000e+00, 5.000000e-02, 0.000000e+00,\n",
    "#        0.000000e+00, 4.060000e+00, 0.000000e+00, 0.000000e+00,\n",
    "#        2.290000e+01, 0.000000e+00, 0.000000e+00, 0.000000e+00,\n",
    "#        0.000000e+00, 0.000000e+00, 1.000000e-02, 0.000000e+00,\n",
    "#        0.000000e+00, 1.000000e-02, 0.000000e+00, 0.000000e+00,\n",
    "#        0.000000e+00, 0.000000e+00, 0.000000e+00, 0.000000e+00,\n",
    "#        1.000000e-02, 7.200000e-01, 0.000000e+00, 0.000000e+00,\n",
    "#        0.000000e+00, 0.000000e+00, 0.000000e+00, 3.613406e+04,\n",
    "#        0.000000e+00, 0.000000e+00, 6.000000e-02, 0.000000e+00,\n",
    "#        1.400000e-01, 1.700000e-01, 0.000000e+00, 0.000000e+00,\n",
    "#        0.000000e+00, 0.000000e+00, 0.000000e+00, 3.000000e-02,\n",
    "#        0.000000e+00, 1.120000e+00, 0.000000e+00, 0.000000e+00,\n",
    "#        0.000000e+00, 1.000000e-02, 0.000000e+00, 1.600000e-01,\n",
    "#        1.000000e-02, 0.000000e+00, 0.000000e+00, 0.000000e+00,\n",
    "#        3.180000e+00, 2.000000e-02], dtype=float32)"
   ]
  },
  {
   "cell_type": "code",
   "execution_count": null,
   "metadata": {},
   "outputs": [],
   "source": []
  }
 ],
 "metadata": {
  "kernelspec": {
   "display_name": "Python 3",
   "language": "python",
   "name": "python3"
  },
  "language_info": {
   "codemirror_mode": {
    "name": "ipython",
    "version": 3
   },
   "file_extension": ".py",
   "mimetype": "text/x-python",
   "name": "python",
   "nbconvert_exporter": "python",
   "pygments_lexer": "ipython3",
   "version": "3.7.4"
  }
 },
 "nbformat": 4,
 "nbformat_minor": 2
}
