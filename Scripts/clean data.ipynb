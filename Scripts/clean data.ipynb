{
 "cells": [
  {
   "cell_type": "code",
   "execution_count": 280,
   "metadata": {},
   "outputs": [],
   "source": [
    "import pandas as pd\n",
    "import numpy as np\n",
    "from sklearn.model_selection import train_test_split\n",
    "import joblib\n",
    "import matplotlib.pyplot as plt\n",
    "from sklearn.linear_model import LinearRegression\n",
    "from sklearn.decomposition import PCA\n",
    "from sklearn.preprocessing import StandardScaler\n",
    "from sklearn.linear_model import Ridge\n",
    "from sklearn.svm import SVC\n",
    "from sklearn.ensemble import RandomForestRegressor\n",
    "from datetime import timedelta"
   ]
  },
  {
   "cell_type": "code",
   "execution_count": 281,
   "metadata": {},
   "outputs": [],
   "source": [
    "df = pd.read_csv('../Data/train.csv')\n",
    "# df.drop([5, 76], inplace=True)"
   ]
  },
  {
   "cell_type": "code",
   "execution_count": 219,
   "metadata": {},
   "outputs": [
    {
     "data": {
      "text/html": [
       "<div>\n",
       "<style scoped>\n",
       "    .dataframe tbody tr th:only-of-type {\n",
       "        vertical-align: middle;\n",
       "    }\n",
       "\n",
       "    .dataframe tbody tr th {\n",
       "        vertical-align: top;\n",
       "    }\n",
       "\n",
       "    .dataframe thead th {\n",
       "        text-align: right;\n",
       "    }\n",
       "</style>\n",
       "<table border=\"1\" class=\"dataframe\">\n",
       "  <thead>\n",
       "    <tr style=\"text-align: right;\">\n",
       "      <th></th>\n",
       "      <th>id</th>\n",
       "      <th>playtime_forever</th>\n",
       "      <th>is_free</th>\n",
       "      <th>price</th>\n",
       "      <th>genres</th>\n",
       "      <th>categories</th>\n",
       "      <th>tags</th>\n",
       "      <th>purchase_date</th>\n",
       "      <th>release_date</th>\n",
       "      <th>total_positive_reviews</th>\n",
       "      <th>total_negative_reviews</th>\n",
       "    </tr>\n",
       "  </thead>\n",
       "  <tbody>\n",
       "    <tr>\n",
       "      <th>5</th>\n",
       "      <td>5</td>\n",
       "      <td>2.933333</td>\n",
       "      <td>False</td>\n",
       "      <td>25800.0</td>\n",
       "      <td>RPG</td>\n",
       "      <td>Single-player,Online Co-op,Local Co-op,Shared/...</td>\n",
       "      <td>RPG,Open World,Survival,Co-op,Fantasy,Online C...</td>\n",
       "      <td>NaN</td>\n",
       "      <td>26 Mar, 2019</td>\n",
       "      <td>NaN</td>\n",
       "      <td>NaN</td>\n",
       "    </tr>\n",
       "    <tr>\n",
       "      <th>76</th>\n",
       "      <td>76</td>\n",
       "      <td>0.000000</td>\n",
       "      <td>False</td>\n",
       "      <td>4800.0</td>\n",
       "      <td>Action,Indie,RPG</td>\n",
       "      <td>Single-player,Steam Achievements,Full controll...</td>\n",
       "      <td>Great Soundtrack,Indie,Action,Narration,Single...</td>\n",
       "      <td>NaN</td>\n",
       "      <td>16 Aug, 2011</td>\n",
       "      <td>NaN</td>\n",
       "      <td>NaN</td>\n",
       "    </tr>\n",
       "  </tbody>\n",
       "</table>\n",
       "</div>"
      ],
      "text/plain": [
       "    id  playtime_forever  is_free    price            genres  \\\n",
       "5    5          2.933333    False  25800.0               RPG   \n",
       "76  76          0.000000    False   4800.0  Action,Indie,RPG   \n",
       "\n",
       "                                           categories  \\\n",
       "5   Single-player,Online Co-op,Local Co-op,Shared/...   \n",
       "76  Single-player,Steam Achievements,Full controll...   \n",
       "\n",
       "                                                 tags purchase_date  \\\n",
       "5   RPG,Open World,Survival,Co-op,Fantasy,Online C...           NaN   \n",
       "76  Great Soundtrack,Indie,Action,Narration,Single...           NaN   \n",
       "\n",
       "    release_date  total_positive_reviews  total_negative_reviews  \n",
       "5   26 Mar, 2019                     NaN                     NaN  \n",
       "76  16 Aug, 2011                     NaN                     NaN  "
      ]
     },
     "execution_count": 219,
     "metadata": {},
     "output_type": "execute_result"
    }
   ],
   "source": [
    "df.iloc[[5, 76]]"
   ]
  },
  {
   "cell_type": "code",
   "execution_count": 220,
   "metadata": {},
   "outputs": [
    {
     "data": {
      "text/plain": [
       "Index(['id', 'playtime_forever', 'is_free', 'price', 'genres', 'categories',\n",
       "       'tags', 'purchase_date', 'release_date', 'total_positive_reviews',\n",
       "       'total_negative_reviews'],\n",
       "      dtype='object')"
      ]
     },
     "execution_count": 220,
     "metadata": {},
     "output_type": "execute_result"
    }
   ],
   "source": [
    "df.columns"
   ]
  },
  {
   "cell_type": "code",
   "execution_count": 221,
   "metadata": {},
   "outputs": [
    {
     "data": {
      "text/plain": [
       "113.8"
      ]
     },
     "execution_count": 221,
     "metadata": {},
     "output_type": "execute_result"
    }
   ],
   "source": [
    "df['playtime_forever'].max()"
   ]
  },
  {
   "cell_type": "code",
   "execution_count": 222,
   "metadata": {},
   "outputs": [
    {
     "data": {
      "text/plain": [
       "0.0"
      ]
     },
     "execution_count": 222,
     "metadata": {},
     "output_type": "execute_result"
    }
   ],
   "source": [
    "df['playtime_forever'].min()"
   ]
  },
  {
   "cell_type": "code",
   "execution_count": 223,
   "metadata": {},
   "outputs": [
    {
     "data": {
      "text/plain": [
       "15999900.0"
      ]
     },
     "execution_count": 223,
     "metadata": {},
     "output_type": "execute_result"
    }
   ],
   "source": [
    "df['price'].max()"
   ]
  },
  {
   "cell_type": "code",
   "execution_count": 224,
   "metadata": {},
   "outputs": [
    {
     "data": {
      "text/plain": [
       "0.0"
      ]
     },
     "execution_count": 224,
     "metadata": {},
     "output_type": "execute_result"
    }
   ],
   "source": [
    "df['price'].min()"
   ]
  },
  {
   "cell_type": "code",
   "execution_count": 225,
   "metadata": {},
   "outputs": [],
   "source": [
    "# df[df['price']==15999900.0]"
   ]
  },
  {
   "cell_type": "code",
   "execution_count": 226,
   "metadata": {},
   "outputs": [],
   "source": [
    "# cat_l = df['categories'].unique().tolist()"
   ]
  },
  {
   "cell_type": "code",
   "execution_count": 227,
   "metadata": {},
   "outputs": [],
   "source": [
    "# len(cat_l)"
   ]
  },
  {
   "cell_type": "markdown",
   "metadata": {},
   "source": [
    "## For types"
   ]
  },
  {
   "cell_type": "code",
   "execution_count": 228,
   "metadata": {},
   "outputs": [],
   "source": [
    "all_cat = {}\n",
    "for item in df.iterrows():\n",
    "    for attr in item[1]['categories'].split(','):\n",
    "        if attr not in all_cat.keys():\n",
    "            all_cat[attr] = 1\n",
    "        else:\n",
    "            all_cat[attr] += 1"
   ]
  },
  {
   "cell_type": "code",
   "execution_count": 229,
   "metadata": {},
   "outputs": [
    {
     "data": {
      "text/plain": [
       "{'Single-player': 342,\n",
       " 'Steam Trading Cards': 238,\n",
       " 'Steam Cloud': 219,\n",
       " 'Partial Controller Support': 66,\n",
       " 'Full controller support': 150,\n",
       " 'Multi-player': 102,\n",
       " 'Steam Achievements': 268,\n",
       " 'Steam Workshop': 52,\n",
       " 'Co-op': 69,\n",
       " 'Steam Leaderboards': 53,\n",
       " 'Online Co-op': 32,\n",
       " 'Local Co-op': 21,\n",
       " 'Shared/Split Screen': 34,\n",
       " 'Stats': 27,\n",
       " 'Online Multi-Player': 47,\n",
       " 'Cross-Platform Multiplayer': 31,\n",
       " 'SteamVR Collectibles': 6,\n",
       " 'Local Multi-Player': 13,\n",
       " 'Remote Play on Phone': 16,\n",
       " 'Remote Play on Tablet': 17,\n",
       " 'Remote Play on TV': 10,\n",
       " 'Valve Anti-Cheat enabled': 13,\n",
       " 'Commentary available': 7,\n",
       " 'Captions available': 30,\n",
       " 'Includes level editor': 37,\n",
       " 'In-App Purchases': 14,\n",
       " 'VR Support': 10,\n",
       " 'MMO': 7,\n",
       " 'Includes Source SDK': 2}"
      ]
     },
     "execution_count": 229,
     "metadata": {},
     "output_type": "execute_result"
    }
   ],
   "source": [
    "all_cat"
   ]
  },
  {
   "cell_type": "code",
   "execution_count": 230,
   "metadata": {},
   "outputs": [],
   "source": [
    "# df[df['categories'].str.contains('Single-player')]['playtime_forever'].mean()"
   ]
  },
  {
   "cell_type": "code",
   "execution_count": 231,
   "metadata": {},
   "outputs": [],
   "source": [
    "# forever_mean_cat = []\n",
    "# for key in all_cat.keys():\n",
    "# #     print(key)\n",
    "#     forever_mean_cat.append(df[df['categories'].str.contains(key)]['playtime_forever'].mean())"
   ]
  },
  {
   "cell_type": "code",
   "execution_count": 232,
   "metadata": {},
   "outputs": [],
   "source": [
    "# name_list = all_cat.keys()\n",
    "# num_list = forever_mean_cat\n",
    "# plt.bar(range(len(num_list)), num_list,color='rgb')"
   ]
  },
  {
   "cell_type": "code",
   "execution_count": 233,
   "metadata": {},
   "outputs": [],
   "source": [
    "# all_cat = sorted(all_cat.items(), key=lambda x:x[1], reverse=True)[5:]\n",
    "all_cat = sorted(all_cat.items(), key=lambda x:x[1], reverse=True)"
   ]
  },
  {
   "cell_type": "code",
   "execution_count": 234,
   "metadata": {},
   "outputs": [
    {
     "data": {
      "text/plain": [
       "[('Single-player', 342),\n",
       " ('Steam Achievements', 268),\n",
       " ('Steam Trading Cards', 238),\n",
       " ('Steam Cloud', 219),\n",
       " ('Full controller support', 150),\n",
       " ('Multi-player', 102),\n",
       " ('Co-op', 69),\n",
       " ('Partial Controller Support', 66),\n",
       " ('Steam Leaderboards', 53),\n",
       " ('Steam Workshop', 52),\n",
       " ('Online Multi-Player', 47),\n",
       " ('Includes level editor', 37),\n",
       " ('Shared/Split Screen', 34),\n",
       " ('Online Co-op', 32),\n",
       " ('Cross-Platform Multiplayer', 31),\n",
       " ('Captions available', 30),\n",
       " ('Stats', 27),\n",
       " ('Local Co-op', 21),\n",
       " ('Remote Play on Tablet', 17),\n",
       " ('Remote Play on Phone', 16),\n",
       " ('In-App Purchases', 14),\n",
       " ('Local Multi-Player', 13),\n",
       " ('Valve Anti-Cheat enabled', 13),\n",
       " ('Remote Play on TV', 10),\n",
       " ('VR Support', 10),\n",
       " ('Commentary available', 7),\n",
       " ('MMO', 7),\n",
       " ('SteamVR Collectibles', 6),\n",
       " ('Includes Source SDK', 2)]"
      ]
     },
     "execution_count": 234,
     "metadata": {},
     "output_type": "execute_result"
    }
   ],
   "source": [
    "all_cat"
   ]
  },
  {
   "cell_type": "code",
   "execution_count": 235,
   "metadata": {},
   "outputs": [
    {
     "data": {
      "text/plain": [
       "29"
      ]
     },
     "execution_count": 235,
     "metadata": {},
     "output_type": "execute_result"
    }
   ],
   "source": [
    "len(all_cat)"
   ]
  },
  {
   "cell_type": "code",
   "execution_count": 236,
   "metadata": {},
   "outputs": [
    {
     "ename": "AttributeError",
     "evalue": "'list' object has no attribute 'keys'",
     "output_type": "error",
     "traceback": [
      "\u001b[0;31m---------------------------------------------------------------------------\u001b[0m",
      "\u001b[0;31mAttributeError\u001b[0m                            Traceback (most recent call last)",
      "\u001b[0;32m<ipython-input-236-14fa93c8224b>\u001b[0m in \u001b[0;36m<module>\u001b[0;34m\u001b[0m\n\u001b[0;32m----> 1\u001b[0;31m \u001b[0mall_cat\u001b[0m\u001b[0;34m.\u001b[0m\u001b[0mkeys\u001b[0m\u001b[0;34m(\u001b[0m\u001b[0;34m)\u001b[0m\u001b[0;34m\u001b[0m\u001b[0;34m\u001b[0m\u001b[0m\n\u001b[0m",
      "\u001b[0;31mAttributeError\u001b[0m: 'list' object has no attribute 'keys'"
     ]
    }
   ],
   "source": [
    "all_cat.keys()"
   ]
  },
  {
   "cell_type": "code",
   "execution_count": 237,
   "metadata": {},
   "outputs": [
    {
     "data": {
      "text/plain": [
       "['cats.pkl']"
      ]
     },
     "execution_count": 237,
     "metadata": {},
     "output_type": "execute_result"
    }
   ],
   "source": [
    "cats = [x[0] for x in all_cat]\n",
    "\n",
    "joblib.dump(cats, 'cats.pkl')"
   ]
  },
  {
   "cell_type": "code",
   "execution_count": 238,
   "metadata": {},
   "outputs": [],
   "source": [
    "# 25 dim for type"
   ]
  },
  {
   "cell_type": "markdown",
   "metadata": {},
   "source": [
    "## For genres"
   ]
  },
  {
   "cell_type": "code",
   "execution_count": 239,
   "metadata": {},
   "outputs": [],
   "source": [
    "all_genres = {}\n",
    "for item in df.iterrows():\n",
    "    for attr in item[1]['genres'].split(','):\n",
    "        if attr not in all_genres.keys():\n",
    "            all_genres[attr] = 1\n",
    "        else:\n",
    "            all_genres[attr] += 1"
   ]
  },
  {
   "cell_type": "code",
   "execution_count": 240,
   "metadata": {},
   "outputs": [
    {
     "data": {
      "text/plain": [
       "{'Adventure': 184,\n",
       " 'Casual': 34,\n",
       " 'Indie': 185,\n",
       " 'RPG': 103,\n",
       " 'Action': 171,\n",
       " 'Strategy': 82,\n",
       " 'Simulation': 65,\n",
       " 'Racing': 2,\n",
       " 'Sports': 4,\n",
       " 'Massively Multiplayer': 14,\n",
       " 'Sexual Content': 2,\n",
       " 'Violent': 6,\n",
       " 'Free to Play': 19,\n",
       " 'Early Access': 9,\n",
       " 'Audio Production': 1,\n",
       " 'Gore': 5,\n",
       " 'Design & Illustration': 2,\n",
       " 'Nudity': 1,\n",
       " 'Animation & Modeling': 1,\n",
       " 'Utilities': 1}"
      ]
     },
     "execution_count": 240,
     "metadata": {},
     "output_type": "execute_result"
    }
   ],
   "source": [
    "all_genres"
   ]
  },
  {
   "cell_type": "code",
   "execution_count": 241,
   "metadata": {},
   "outputs": [
    {
     "data": {
      "text/plain": [
       "dict_keys(['Adventure', 'Casual', 'Indie', 'RPG', 'Action', 'Strategy', 'Simulation', 'Racing', 'Sports', 'Massively Multiplayer', 'Sexual Content', 'Violent', 'Free to Play', 'Early Access', 'Audio Production', 'Gore', 'Design & Illustration', 'Nudity', 'Animation & Modeling', 'Utilities'])"
      ]
     },
     "execution_count": 241,
     "metadata": {},
     "output_type": "execute_result"
    }
   ],
   "source": [
    "all_genres.keys()"
   ]
  },
  {
   "cell_type": "code",
   "execution_count": 242,
   "metadata": {},
   "outputs": [],
   "source": [
    "# forever_mean_gre = []\n",
    "# for key in all_genres.keys():\n",
    "# #     print(key)\n",
    "#     forever_mean_gre.append(df[df['genres'].str.contains(key)]['playtime_forever'].mean())\n",
    "\n",
    "# name_list = all_genres.keys()\n",
    "# num_list = forever_mean_gre\n",
    "# plt.bar(range(len(num_list)), num_list,color='rgb')"
   ]
  },
  {
   "cell_type": "code",
   "execution_count": 243,
   "metadata": {},
   "outputs": [
    {
     "data": {
      "text/plain": [
       "20"
      ]
     },
     "execution_count": 243,
     "metadata": {},
     "output_type": "execute_result"
    }
   ],
   "source": [
    "len(all_genres)"
   ]
  },
  {
   "cell_type": "code",
   "execution_count": 244,
   "metadata": {},
   "outputs": [],
   "source": [
    "# 20 dim for genre"
   ]
  },
  {
   "cell_type": "code",
   "execution_count": 245,
   "metadata": {},
   "outputs": [
    {
     "data": {
      "text/plain": [
       "['./genres.pkl']"
      ]
     },
     "execution_count": 245,
     "metadata": {},
     "output_type": "execute_result"
    }
   ],
   "source": [
    "genres = [x for x in all_genres.keys()]\n",
    "\n",
    "joblib.dump(genres, './genres.pkl')"
   ]
  },
  {
   "cell_type": "markdown",
   "metadata": {},
   "source": [
    "## For tags"
   ]
  },
  {
   "cell_type": "code",
   "execution_count": 246,
   "metadata": {},
   "outputs": [],
   "source": [
    "# df['tags'].unique()"
   ]
  },
  {
   "cell_type": "code",
   "execution_count": 247,
   "metadata": {},
   "outputs": [],
   "source": [
    "all_tags = {}\n",
    "for item in df.iterrows():\n",
    "    for attr in item[1]['tags'].split(','):\n",
    "        if attr not in all_tags.keys():\n",
    "            all_tags[attr] = 1\n",
    "        else:\n",
    "            all_tags[attr] += 1"
   ]
  },
  {
   "cell_type": "code",
   "execution_count": 248,
   "metadata": {},
   "outputs": [
    {
     "data": {
      "text/plain": [
       "{'Indie': 207,\n",
       " 'Adventure': 268,\n",
       " 'Story Rich': 146,\n",
       " 'Casual': 65,\n",
       " 'Atmospheric': 187,\n",
       " 'Exploration': 63,\n",
       " 'First-Person': 80,\n",
       " 'Stealth': 31,\n",
       " 'Choices Matter': 42,\n",
       " 'Singleplayer': 302,\n",
       " 'Walking Simulator': 25,\n",
       " 'Short': 25,\n",
       " 'Drama': 5,\n",
       " 'Mod': 3,\n",
       " 'Utilities': 3,\n",
       " 'RPG': 132,\n",
       " 'Game Development': 1,\n",
       " 'Free to Play': 24,\n",
       " 'Point & Click': 49,\n",
       " 'Comedy': 55,\n",
       " 'Funny': 66,\n",
       " 'Kickstarter': 17,\n",
       " 'Great Soundtrack': 170,\n",
       " 'Puzzle': 79,\n",
       " 'Female Protagonist': 56,\n",
       " '2D': 81,\n",
       " 'Masterpiece': 86,\n",
       " 'Classic': 39,\n",
       " 'Retro': 30,\n",
       " 'Cult Classic': 14,\n",
       " 'Crowdfunded': 7,\n",
       " 'Episodic': 9,\n",
       " 'Sci-fi': 96,\n",
       " 'Medieval': 19,\n",
       " 'Open World': 129,\n",
       " 'Strategy': 111,\n",
       " 'Sandbox': 64,\n",
       " 'Action': 219,\n",
       " 'Multiplayer': 145,\n",
       " 'Moddable': 33,\n",
       " 'Military': 12,\n",
       " 'Horses': 2,\n",
       " 'Realistic': 18,\n",
       " 'Historical': 21,\n",
       " 'Third Person': 77,\n",
       " 'Simulation': 85,\n",
       " 'Hack and Slash': 33,\n",
       " 'Fantasy': 98,\n",
       " 'Tower Defense': 7,\n",
       " 'Co-op': 104,\n",
       " 'Online Co-Op': 48,\n",
       " 'Third-Person Shooter': 27,\n",
       " 'Cartoony': 4,\n",
       " 'Shooter': 69,\n",
       " 'Controller': 23,\n",
       " 'Survival': 65,\n",
       " 'Local Co-Op': 33,\n",
       " 'Split Screen': 6,\n",
       " 'Souls-like': 4,\n",
       " 'Violent': 35,\n",
       " 'Difficult': 65,\n",
       " 'Resource Management': 11,\n",
       " 'Top-Down': 12,\n",
       " '1980s': 4,\n",
       " 'Fast-Paced': 12,\n",
       " 'Pixel Graphics': 26,\n",
       " 'Gore': 50,\n",
       " 'Psychedelic': 3,\n",
       " 'Surreal': 7,\n",
       " 'Addictive': 8,\n",
       " 'Music': 9,\n",
       " 'Top-Down Shooter': 4,\n",
       " 'VR': 36,\n",
       " 'Turn-Based': 35,\n",
       " 'Anime': 17,\n",
       " 'JRPG': 8,\n",
       " 'Epic': 2,\n",
       " 'Turn-Based Combat': 8,\n",
       " 'Parody': 2,\n",
       " 'Cats': 3,\n",
       " 'Cute': 17,\n",
       " 'FPS': 55,\n",
       " 'Post-apocalyptic': 25,\n",
       " 'Action RPG': 30,\n",
       " 'Action-Adventure': 13,\n",
       " \"Beat 'em up\": 14,\n",
       " 'Metroidvania': 12,\n",
       " 'Spectacle fighter': 6,\n",
       " '3D Platformer': 11,\n",
       " 'Character Action Game': 5,\n",
       " 'Platformer': 35,\n",
       " 'Old School': 9,\n",
       " 'CRPG': 16,\n",
       " 'Rogue-like': 22,\n",
       " 'Dungeon Crawler': 13,\n",
       " 'Rogue-lite': 15,\n",
       " 'Replay Value': 27,\n",
       " 'Side Scroller': 18,\n",
       " 'Loot': 6,\n",
       " 'Local Multiplayer': 12,\n",
       " 'Family Friendly': 15,\n",
       " '4 Player Local': 6,\n",
       " 'Co-op Campaign': 2,\n",
       " 'Colorful': 16,\n",
       " 'Memes': 14,\n",
       " 'Space': 38,\n",
       " 'Massively Multiplayer': 24,\n",
       " 'Character Customization': 25,\n",
       " 'Isometric': 28,\n",
       " 'Steampunk': 16,\n",
       " 'Cartoon': 3,\n",
       " 'Physics': 11,\n",
       " 'Science': 4,\n",
       " 'Space Sim': 6,\n",
       " 'Building': 29,\n",
       " 'Education': 8,\n",
       " 'Grand Strategy': 9,\n",
       " '4X': 11,\n",
       " 'Real-Time with Pause': 14,\n",
       " 'RTS': 22,\n",
       " 'Racing': 6,\n",
       " 'Offroad': 1,\n",
       " 'Motocross': 1,\n",
       " 'Sports': 8,\n",
       " 'Motorbike': 1,\n",
       " 'ATV': 1,\n",
       " 'Bikes': 1,\n",
       " 'Arcade': 12,\n",
       " 'Turn-Based Strategy': 21,\n",
       " 'Hex Grid': 5,\n",
       " 'Tactical': 25,\n",
       " 'Psychological': 5,\n",
       " 'Mythology': 6,\n",
       " 'Dark': 34,\n",
       " 'Horror': 65,\n",
       " 'Dark Fantasy': 19,\n",
       " 'Blood': 3,\n",
       " 'War': 19,\n",
       " 'Cinematic': 8,\n",
       " 'Romance': 6,\n",
       " 'Card Game': 10,\n",
       " 'Choose Your Own Adventure': 11,\n",
       " 'Dark Humor': 15,\n",
       " 'Touch-Friendly': 4,\n",
       " 'Noir': 8,\n",
       " 'Remake': 13,\n",
       " \"1990's\": 11,\n",
       " 'Hand-drawn': 14,\n",
       " 'Bullet Hell': 1,\n",
       " \"Shoot 'Em Up\": 1,\n",
       " 'Party-Based RPG': 9,\n",
       " 'Dungeons & Dragons': 3,\n",
       " 'Tactical RPG': 3,\n",
       " 'Philisophical': 4,\n",
       " 'Early Access': 56,\n",
       " 'Procedural Generation': 10,\n",
       " 'Tennis': 1,\n",
       " 'Programming': 2,\n",
       " 'Investigation': 2,\n",
       " 'Underground': 1,\n",
       " 'Dynamic Narration': 4,\n",
       " 'Transhumanism': 2,\n",
       " 'Intentionally Awkward Controls': 1,\n",
       " 'Multiple Endings': 18,\n",
       " 'Nudity': 31,\n",
       " 'Sexual Content': 15,\n",
       " 'Dystopian': 18,\n",
       " 'Mature': 26,\n",
       " 'Emotional': 2,\n",
       " 'Political': 12,\n",
       " 'Based On A Novel': 4,\n",
       " 'Crafting': 24,\n",
       " 'PvP': 10,\n",
       " 'Management': 16,\n",
       " 'Economy': 9,\n",
       " 'Trains': 2,\n",
       " 'City Builder': 10,\n",
       " 'Transportation': 1,\n",
       " 'Driving': 2,\n",
       " 'Flight': 2,\n",
       " 'Relaxing': 11,\n",
       " 'Survival Horror': 18,\n",
       " 'Lovecraftian': 8,\n",
       " 'Inventory Management': 2,\n",
       " 'Psychological Horror': 30,\n",
       " 'Level Editor': 4,\n",
       " 'Detective': 20,\n",
       " 'Visual Novel': 18,\n",
       " 'Mystery': 32,\n",
       " 'Dark Comedy': 2,\n",
       " 'Dating Sim': 3,\n",
       " 'Puzzle-Platformer': 7,\n",
       " 'Swordplay': 6,\n",
       " 'Crime': 12,\n",
       " 'Thriller': 10,\n",
       " 'Supernatural': 5,\n",
       " 'Narration': 5,\n",
       " 'World War II': 5,\n",
       " 'Hidden Object': 4,\n",
       " 'Illuminati': 7,\n",
       " 'Hacking': 5,\n",
       " 'Parkour': 15,\n",
       " 'Lara Croft': 4,\n",
       " 'Underwater': 7,\n",
       " '3D Vision': 10,\n",
       " 'Experimental': 5,\n",
       " 'Board Game': 7,\n",
       " 'eSports': 1,\n",
       " 'Score Attack': 2,\n",
       " 'Competitive': 7,\n",
       " 'Magic': 19,\n",
       " 'Team-Based': 8,\n",
       " 'Hunting': 5,\n",
       " 'Stylized': 3,\n",
       " 'Interactive Fiction': 7,\n",
       " 'Quick-Time Events': 5,\n",
       " 'Beautiful': 13,\n",
       " 'Futuristic': 18,\n",
       " 'Cyberpunk': 19,\n",
       " 'Dragons': 10,\n",
       " 'Base Building': 18,\n",
       " 'Alternate History': 9,\n",
       " 'Real-Time': 4,\n",
       " 'FMV': 7,\n",
       " 'Trading Card Game': 2,\n",
       " 'Aliens': 12,\n",
       " 'Zombies': 16,\n",
       " 'Twin Stick Shooter': 7,\n",
       " 'Turn-Based Tactics': 6,\n",
       " 'Chess': 1,\n",
       " 'Automation': 2,\n",
       " 'Battle Royale': 4,\n",
       " 'Fighting': 9,\n",
       " 'Western': 1,\n",
       " 'Ninja': 4,\n",
       " '2.5D': 6,\n",
       " 'Satire': 3,\n",
       " 'Wargame': 1,\n",
       " 'America': 1,\n",
       " 'Real Time Tactics': 4,\n",
       " 'Time Travel': 7,\n",
       " 'Politics': 5,\n",
       " 'Capitalism': 1,\n",
       " 'Sequel': 1,\n",
       " 'Mouse only': 5,\n",
       " 'Minimalist': 2,\n",
       " 'Logic': 1,\n",
       " '3D': 3,\n",
       " 'Heist': 3,\n",
       " 'Unforgiving': 1,\n",
       " 'Perma Death': 8,\n",
       " 'LGBTQ+': 2,\n",
       " 'Nonlinear': 3,\n",
       " 'Animation & Modeling': 3,\n",
       " 'Warhammer 40K': 1,\n",
       " 'Games Workshop': 1,\n",
       " 'Gothic': 3,\n",
       " 'Naval': 2,\n",
       " 'Audio Production': 1,\n",
       " 'World War I': 1,\n",
       " 'Destruction': 6,\n",
       " 'Mars': 3,\n",
       " 'Pirates': 3,\n",
       " 'Design & Illustration': 4,\n",
       " 'Linear': 6,\n",
       " 'Strategy RPG': 4,\n",
       " 'Soundtrack': 1,\n",
       " 'Mechs': 4,\n",
       " 'Tanks': 1,\n",
       " 'Trading': 3,\n",
       " 'Time Manipulation': 2,\n",
       " 'Bullet Time': 2,\n",
       " 'MMORPG': 6,\n",
       " 'God Game': 5,\n",
       " 'Nature': 2,\n",
       " 'Diplomacy': 2,\n",
       " 'Documentary': 1,\n",
       " 'Submarine': 2,\n",
       " 'Movie': 1,\n",
       " 'Robots': 8,\n",
       " 'Text-Based': 1,\n",
       " 'Voxel': 3,\n",
       " 'Sniper': 1,\n",
       " 'Dinosaurs': 3,\n",
       " 'Clicker': 1,\n",
       " 'Minigames': 1,\n",
       " 'Villain Protagonist': 7,\n",
       " 'Comic Book': 4,\n",
       " 'Immersive Sim': 3,\n",
       " 'Assassin': 4,\n",
       " 'Benchmark': 3,\n",
       " 'PvE': 2,\n",
       " 'Gun Customization': 2,\n",
       " 'Snowboarding': 1,\n",
       " 'Rome': 2,\n",
       " 'Demons': 2,\n",
       " 'Software': 1,\n",
       " 'Martial Arts': 2,\n",
       " 'Rhythm': 2,\n",
       " 'Sailing': 1,\n",
       " 'Artificial Intelligence': 1,\n",
       " 'Arena Shooter': 2,\n",
       " 'Experience': 1,\n",
       " 'MOBA': 1,\n",
       " 'RPGMaker': 2,\n",
       " 'Typing': 1,\n",
       " 'Conspiracy': 1,\n",
       " 'Star Wars': 1,\n",
       " 'Music-Based Procedural Generation': 1,\n",
       " 'Silent Protagonist': 1,\n",
       " 'Batman': 2,\n",
       " 'Superhero': 2}"
      ]
     },
     "execution_count": 248,
     "metadata": {},
     "output_type": "execute_result"
    }
   ],
   "source": [
    "all_tags"
   ]
  },
  {
   "cell_type": "code",
   "execution_count": 249,
   "metadata": {},
   "outputs": [
    {
     "data": {
      "text/plain": [
       "312"
      ]
     },
     "execution_count": 249,
     "metadata": {},
     "output_type": "execute_result"
    }
   ],
   "source": [
    "len(all_tags)"
   ]
  },
  {
   "cell_type": "code",
   "execution_count": 250,
   "metadata": {},
   "outputs": [
    {
     "data": {
      "text/plain": [
       "dict_keys(['Indie', 'Adventure', 'Story Rich', 'Casual', 'Atmospheric', 'Exploration', 'First-Person', 'Stealth', 'Choices Matter', 'Singleplayer', 'Walking Simulator', 'Short', 'Drama', 'Mod', 'Utilities', 'RPG', 'Game Development', 'Free to Play', 'Point & Click', 'Comedy', 'Funny', 'Kickstarter', 'Great Soundtrack', 'Puzzle', 'Female Protagonist', '2D', 'Masterpiece', 'Classic', 'Retro', 'Cult Classic', 'Crowdfunded', 'Episodic', 'Sci-fi', 'Medieval', 'Open World', 'Strategy', 'Sandbox', 'Action', 'Multiplayer', 'Moddable', 'Military', 'Horses', 'Realistic', 'Historical', 'Third Person', 'Simulation', 'Hack and Slash', 'Fantasy', 'Tower Defense', 'Co-op', 'Online Co-Op', 'Third-Person Shooter', 'Cartoony', 'Shooter', 'Controller', 'Survival', 'Local Co-Op', 'Split Screen', 'Souls-like', 'Violent', 'Difficult', 'Resource Management', 'Top-Down', '1980s', 'Fast-Paced', 'Pixel Graphics', 'Gore', 'Psychedelic', 'Surreal', 'Addictive', 'Music', 'Top-Down Shooter', 'VR', 'Turn-Based', 'Anime', 'JRPG', 'Epic', 'Turn-Based Combat', 'Parody', 'Cats', 'Cute', 'FPS', 'Post-apocalyptic', 'Action RPG', 'Action-Adventure', \"Beat 'em up\", 'Metroidvania', 'Spectacle fighter', '3D Platformer', 'Character Action Game', 'Platformer', 'Old School', 'CRPG', 'Rogue-like', 'Dungeon Crawler', 'Rogue-lite', 'Replay Value', 'Side Scroller', 'Loot', 'Local Multiplayer', 'Family Friendly', '4 Player Local', 'Co-op Campaign', 'Colorful', 'Memes', 'Space', 'Massively Multiplayer', 'Character Customization', 'Isometric', 'Steampunk', 'Cartoon', 'Physics', 'Science', 'Space Sim', 'Building', 'Education', 'Grand Strategy', '4X', 'Real-Time with Pause', 'RTS', 'Racing', 'Offroad', 'Motocross', 'Sports', 'Motorbike', 'ATV', 'Bikes', 'Arcade', 'Turn-Based Strategy', 'Hex Grid', 'Tactical', 'Psychological', 'Mythology', 'Dark', 'Horror', 'Dark Fantasy', 'Blood', 'War', 'Cinematic', 'Romance', 'Card Game', 'Choose Your Own Adventure', 'Dark Humor', 'Touch-Friendly', 'Noir', 'Remake', \"1990's\", 'Hand-drawn', 'Bullet Hell', \"Shoot 'Em Up\", 'Party-Based RPG', 'Dungeons & Dragons', 'Tactical RPG', 'Philisophical', 'Early Access', 'Procedural Generation', 'Tennis', 'Programming', 'Investigation', 'Underground', 'Dynamic Narration', 'Transhumanism', 'Intentionally Awkward Controls', 'Multiple Endings', 'Nudity', 'Sexual Content', 'Dystopian', 'Mature', 'Emotional', 'Political', 'Based On A Novel', 'Crafting', 'PvP', 'Management', 'Economy', 'Trains', 'City Builder', 'Transportation', 'Driving', 'Flight', 'Relaxing', 'Survival Horror', 'Lovecraftian', 'Inventory Management', 'Psychological Horror', 'Level Editor', 'Detective', 'Visual Novel', 'Mystery', 'Dark Comedy', 'Dating Sim', 'Puzzle-Platformer', 'Swordplay', 'Crime', 'Thriller', 'Supernatural', 'Narration', 'World War II', 'Hidden Object', 'Illuminati', 'Hacking', 'Parkour', 'Lara Croft', 'Underwater', '3D Vision', 'Experimental', 'Board Game', 'eSports', 'Score Attack', 'Competitive', 'Magic', 'Team-Based', 'Hunting', 'Stylized', 'Interactive Fiction', 'Quick-Time Events', 'Beautiful', 'Futuristic', 'Cyberpunk', 'Dragons', 'Base Building', 'Alternate History', 'Real-Time', 'FMV', 'Trading Card Game', 'Aliens', 'Zombies', 'Twin Stick Shooter', 'Turn-Based Tactics', 'Chess', 'Automation', 'Battle Royale', 'Fighting', 'Western', 'Ninja', '2.5D', 'Satire', 'Wargame', 'America', 'Real Time Tactics', 'Time Travel', 'Politics', 'Capitalism', 'Sequel', 'Mouse only', 'Minimalist', 'Logic', '3D', 'Heist', 'Unforgiving', 'Perma Death', 'LGBTQ+', 'Nonlinear', 'Animation & Modeling', 'Warhammer 40K', 'Games Workshop', 'Gothic', 'Naval', 'Audio Production', 'World War I', 'Destruction', 'Mars', 'Pirates', 'Design & Illustration', 'Linear', 'Strategy RPG', 'Soundtrack', 'Mechs', 'Tanks', 'Trading', 'Time Manipulation', 'Bullet Time', 'MMORPG', 'God Game', 'Nature', 'Diplomacy', 'Documentary', 'Submarine', 'Movie', 'Robots', 'Text-Based', 'Voxel', 'Sniper', 'Dinosaurs', 'Clicker', 'Minigames', 'Villain Protagonist', 'Comic Book', 'Immersive Sim', 'Assassin', 'Benchmark', 'PvE', 'Gun Customization', 'Snowboarding', 'Rome', 'Demons', 'Software', 'Martial Arts', 'Rhythm', 'Sailing', 'Artificial Intelligence', 'Arena Shooter', 'Experience', 'MOBA', 'RPGMaker', 'Typing', 'Conspiracy', 'Star Wars', 'Music-Based Procedural Generation', 'Silent Protagonist', 'Batman', 'Superhero'])"
      ]
     },
     "execution_count": 250,
     "metadata": {},
     "output_type": "execute_result"
    }
   ],
   "source": [
    "all_tags.keys()"
   ]
  },
  {
   "cell_type": "code",
   "execution_count": 251,
   "metadata": {},
   "outputs": [],
   "source": [
    "# all_tags = sorted(all_tags.items(), key=lambda x: x[1], reverse=True)[4:70]\n",
    "all_tags = sorted(all_tags.items(), key=lambda x: x[1], reverse=True)"
   ]
  },
  {
   "cell_type": "code",
   "execution_count": 252,
   "metadata": {},
   "outputs": [
    {
     "data": {
      "text/plain": [
       "[('Singleplayer', 302),\n",
       " ('Adventure', 268),\n",
       " ('Action', 219),\n",
       " ('Indie', 207),\n",
       " ('Atmospheric', 187),\n",
       " ('Great Soundtrack', 170),\n",
       " ('Story Rich', 146),\n",
       " ('Multiplayer', 145),\n",
       " ('RPG', 132),\n",
       " ('Open World', 129),\n",
       " ('Strategy', 111),\n",
       " ('Co-op', 104),\n",
       " ('Fantasy', 98),\n",
       " ('Sci-fi', 96),\n",
       " ('Masterpiece', 86),\n",
       " ('Simulation', 85),\n",
       " ('2D', 81),\n",
       " ('First-Person', 80),\n",
       " ('Puzzle', 79),\n",
       " ('Third Person', 77),\n",
       " ('Shooter', 69),\n",
       " ('Funny', 66),\n",
       " ('Casual', 65),\n",
       " ('Survival', 65),\n",
       " ('Difficult', 65),\n",
       " ('Horror', 65),\n",
       " ('Sandbox', 64),\n",
       " ('Exploration', 63),\n",
       " ('Female Protagonist', 56),\n",
       " ('Early Access', 56),\n",
       " ('Comedy', 55),\n",
       " ('FPS', 55),\n",
       " ('Gore', 50),\n",
       " ('Point & Click', 49),\n",
       " ('Online Co-Op', 48),\n",
       " ('Choices Matter', 42),\n",
       " ('Classic', 39),\n",
       " ('Space', 38),\n",
       " ('VR', 36),\n",
       " ('Violent', 35),\n",
       " ('Turn-Based', 35),\n",
       " ('Platformer', 35),\n",
       " ('Dark', 34),\n",
       " ('Moddable', 33),\n",
       " ('Hack and Slash', 33),\n",
       " ('Local Co-Op', 33),\n",
       " ('Mystery', 32),\n",
       " ('Stealth', 31),\n",
       " ('Nudity', 31),\n",
       " ('Retro', 30),\n",
       " ('Action RPG', 30),\n",
       " ('Psychological Horror', 30),\n",
       " ('Building', 29),\n",
       " ('Isometric', 28),\n",
       " ('Third-Person Shooter', 27),\n",
       " ('Replay Value', 27),\n",
       " ('Pixel Graphics', 26),\n",
       " ('Mature', 26),\n",
       " ('Walking Simulator', 25),\n",
       " ('Short', 25),\n",
       " ('Post-apocalyptic', 25),\n",
       " ('Character Customization', 25),\n",
       " ('Tactical', 25),\n",
       " ('Free to Play', 24),\n",
       " ('Massively Multiplayer', 24),\n",
       " ('Crafting', 24),\n",
       " ('Controller', 23),\n",
       " ('Rogue-like', 22),\n",
       " ('RTS', 22),\n",
       " ('Historical', 21),\n",
       " ('Turn-Based Strategy', 21),\n",
       " ('Detective', 20),\n",
       " ('Medieval', 19),\n",
       " ('Dark Fantasy', 19),\n",
       " ('War', 19),\n",
       " ('Magic', 19),\n",
       " ('Cyberpunk', 19),\n",
       " ('Realistic', 18),\n",
       " ('Side Scroller', 18),\n",
       " ('Multiple Endings', 18),\n",
       " ('Dystopian', 18),\n",
       " ('Survival Horror', 18),\n",
       " ('Visual Novel', 18),\n",
       " ('Futuristic', 18),\n",
       " ('Base Building', 18),\n",
       " ('Kickstarter', 17),\n",
       " ('Anime', 17),\n",
       " ('Cute', 17),\n",
       " ('CRPG', 16),\n",
       " ('Colorful', 16),\n",
       " ('Steampunk', 16),\n",
       " ('Management', 16),\n",
       " ('Zombies', 16),\n",
       " ('Rogue-lite', 15),\n",
       " ('Family Friendly', 15),\n",
       " ('Dark Humor', 15),\n",
       " ('Sexual Content', 15),\n",
       " ('Parkour', 15),\n",
       " ('Cult Classic', 14),\n",
       " (\"Beat 'em up\", 14),\n",
       " ('Memes', 14),\n",
       " ('Real-Time with Pause', 14),\n",
       " ('Hand-drawn', 14),\n",
       " ('Action-Adventure', 13),\n",
       " ('Dungeon Crawler', 13),\n",
       " ('Remake', 13),\n",
       " ('Beautiful', 13),\n",
       " ('Military', 12),\n",
       " ('Top-Down', 12),\n",
       " ('Fast-Paced', 12),\n",
       " ('Metroidvania', 12),\n",
       " ('Local Multiplayer', 12),\n",
       " ('Arcade', 12),\n",
       " ('Political', 12),\n",
       " ('Crime', 12),\n",
       " ('Aliens', 12),\n",
       " ('Resource Management', 11),\n",
       " ('3D Platformer', 11),\n",
       " ('Physics', 11),\n",
       " ('4X', 11),\n",
       " ('Choose Your Own Adventure', 11),\n",
       " (\"1990's\", 11),\n",
       " ('Relaxing', 11),\n",
       " ('Card Game', 10),\n",
       " ('Procedural Generation', 10),\n",
       " ('PvP', 10),\n",
       " ('City Builder', 10),\n",
       " ('Thriller', 10),\n",
       " ('3D Vision', 10),\n",
       " ('Dragons', 10),\n",
       " ('Episodic', 9),\n",
       " ('Music', 9),\n",
       " ('Old School', 9),\n",
       " ('Grand Strategy', 9),\n",
       " ('Party-Based RPG', 9),\n",
       " ('Economy', 9),\n",
       " ('Alternate History', 9),\n",
       " ('Fighting', 9),\n",
       " ('Addictive', 8),\n",
       " ('JRPG', 8),\n",
       " ('Turn-Based Combat', 8),\n",
       " ('Education', 8),\n",
       " ('Sports', 8),\n",
       " ('Cinematic', 8),\n",
       " ('Noir', 8),\n",
       " ('Lovecraftian', 8),\n",
       " ('Team-Based', 8),\n",
       " ('Perma Death', 8),\n",
       " ('Robots', 8),\n",
       " ('Crowdfunded', 7),\n",
       " ('Tower Defense', 7),\n",
       " ('Surreal', 7),\n",
       " ('Puzzle-Platformer', 7),\n",
       " ('Illuminati', 7),\n",
       " ('Underwater', 7),\n",
       " ('Board Game', 7),\n",
       " ('Competitive', 7),\n",
       " ('Interactive Fiction', 7),\n",
       " ('FMV', 7),\n",
       " ('Twin Stick Shooter', 7),\n",
       " ('Time Travel', 7),\n",
       " ('Villain Protagonist', 7),\n",
       " ('Split Screen', 6),\n",
       " ('Spectacle fighter', 6),\n",
       " ('Loot', 6),\n",
       " ('4 Player Local', 6),\n",
       " ('Space Sim', 6),\n",
       " ('Racing', 6),\n",
       " ('Mythology', 6),\n",
       " ('Romance', 6),\n",
       " ('Swordplay', 6),\n",
       " ('Turn-Based Tactics', 6),\n",
       " ('2.5D', 6),\n",
       " ('Destruction', 6),\n",
       " ('Linear', 6),\n",
       " ('MMORPG', 6),\n",
       " ('Drama', 5),\n",
       " ('Character Action Game', 5),\n",
       " ('Hex Grid', 5),\n",
       " ('Psychological', 5),\n",
       " ('Supernatural', 5),\n",
       " ('Narration', 5),\n",
       " ('World War II', 5),\n",
       " ('Hacking', 5),\n",
       " ('Experimental', 5),\n",
       " ('Hunting', 5),\n",
       " ('Quick-Time Events', 5),\n",
       " ('Politics', 5),\n",
       " ('Mouse only', 5),\n",
       " ('God Game', 5),\n",
       " ('Cartoony', 4),\n",
       " ('Souls-like', 4),\n",
       " ('1980s', 4),\n",
       " ('Top-Down Shooter', 4),\n",
       " ('Science', 4),\n",
       " ('Touch-Friendly', 4),\n",
       " ('Philisophical', 4),\n",
       " ('Dynamic Narration', 4),\n",
       " ('Based On A Novel', 4),\n",
       " ('Level Editor', 4),\n",
       " ('Hidden Object', 4),\n",
       " ('Lara Croft', 4),\n",
       " ('Real-Time', 4),\n",
       " ('Battle Royale', 4),\n",
       " ('Ninja', 4),\n",
       " ('Real Time Tactics', 4),\n",
       " ('Design & Illustration', 4),\n",
       " ('Strategy RPG', 4),\n",
       " ('Mechs', 4),\n",
       " ('Comic Book', 4),\n",
       " ('Assassin', 4),\n",
       " ('Mod', 3),\n",
       " ('Utilities', 3),\n",
       " ('Psychedelic', 3),\n",
       " ('Cats', 3),\n",
       " ('Cartoon', 3),\n",
       " ('Blood', 3),\n",
       " ('Dungeons & Dragons', 3),\n",
       " ('Tactical RPG', 3),\n",
       " ('Dating Sim', 3),\n",
       " ('Stylized', 3),\n",
       " ('Satire', 3),\n",
       " ('3D', 3),\n",
       " ('Heist', 3),\n",
       " ('Nonlinear', 3),\n",
       " ('Animation & Modeling', 3),\n",
       " ('Gothic', 3),\n",
       " ('Mars', 3),\n",
       " ('Pirates', 3),\n",
       " ('Trading', 3),\n",
       " ('Voxel', 3),\n",
       " ('Dinosaurs', 3),\n",
       " ('Immersive Sim', 3),\n",
       " ('Benchmark', 3),\n",
       " ('Horses', 2),\n",
       " ('Epic', 2),\n",
       " ('Parody', 2),\n",
       " ('Co-op Campaign', 2),\n",
       " ('Programming', 2),\n",
       " ('Investigation', 2),\n",
       " ('Transhumanism', 2),\n",
       " ('Emotional', 2),\n",
       " ('Trains', 2),\n",
       " ('Driving', 2),\n",
       " ('Flight', 2),\n",
       " ('Inventory Management', 2),\n",
       " ('Dark Comedy', 2),\n",
       " ('Score Attack', 2),\n",
       " ('Trading Card Game', 2),\n",
       " ('Automation', 2),\n",
       " ('Minimalist', 2),\n",
       " ('LGBTQ+', 2),\n",
       " ('Naval', 2),\n",
       " ('Time Manipulation', 2),\n",
       " ('Bullet Time', 2),\n",
       " ('Nature', 2),\n",
       " ('Diplomacy', 2),\n",
       " ('Submarine', 2),\n",
       " ('PvE', 2),\n",
       " ('Gun Customization', 2),\n",
       " ('Rome', 2),\n",
       " ('Demons', 2),\n",
       " ('Martial Arts', 2),\n",
       " ('Rhythm', 2),\n",
       " ('Arena Shooter', 2),\n",
       " ('RPGMaker', 2),\n",
       " ('Batman', 2),\n",
       " ('Superhero', 2),\n",
       " ('Game Development', 1),\n",
       " ('Offroad', 1),\n",
       " ('Motocross', 1),\n",
       " ('Motorbike', 1),\n",
       " ('ATV', 1),\n",
       " ('Bikes', 1),\n",
       " ('Bullet Hell', 1),\n",
       " (\"Shoot 'Em Up\", 1),\n",
       " ('Tennis', 1),\n",
       " ('Underground', 1),\n",
       " ('Intentionally Awkward Controls', 1),\n",
       " ('Transportation', 1),\n",
       " ('eSports', 1),\n",
       " ('Chess', 1),\n",
       " ('Western', 1),\n",
       " ('Wargame', 1),\n",
       " ('America', 1),\n",
       " ('Capitalism', 1),\n",
       " ('Sequel', 1),\n",
       " ('Logic', 1),\n",
       " ('Unforgiving', 1),\n",
       " ('Warhammer 40K', 1),\n",
       " ('Games Workshop', 1),\n",
       " ('Audio Production', 1),\n",
       " ('World War I', 1),\n",
       " ('Soundtrack', 1),\n",
       " ('Tanks', 1),\n",
       " ('Documentary', 1),\n",
       " ('Movie', 1),\n",
       " ('Text-Based', 1),\n",
       " ('Sniper', 1),\n",
       " ('Clicker', 1),\n",
       " ('Minigames', 1),\n",
       " ('Snowboarding', 1),\n",
       " ('Software', 1),\n",
       " ('Sailing', 1),\n",
       " ('Artificial Intelligence', 1),\n",
       " ('Experience', 1),\n",
       " ('MOBA', 1),\n",
       " ('Typing', 1),\n",
       " ('Conspiracy', 1),\n",
       " ('Star Wars', 1),\n",
       " ('Music-Based Procedural Generation', 1),\n",
       " ('Silent Protagonist', 1)]"
      ]
     },
     "execution_count": 252,
     "metadata": {},
     "output_type": "execute_result"
    }
   ],
   "source": [
    "all_tags"
   ]
  },
  {
   "cell_type": "code",
   "execution_count": 253,
   "metadata": {},
   "outputs": [
    {
     "data": {
      "text/plain": [
       "312"
      ]
     },
     "execution_count": 253,
     "metadata": {},
     "output_type": "execute_result"
    }
   ],
   "source": [
    "len(all_tags)"
   ]
  },
  {
   "cell_type": "code",
   "execution_count": 254,
   "metadata": {},
   "outputs": [],
   "source": [
    "t = {}\n",
    "for item in all_tags:\n",
    "    t[item[0]] = 1"
   ]
  },
  {
   "cell_type": "code",
   "execution_count": 255,
   "metadata": {},
   "outputs": [
    {
     "data": {
      "text/plain": [
       "dict_keys(['Singleplayer', 'Adventure', 'Action', 'Indie', 'Atmospheric', 'Great Soundtrack', 'Story Rich', 'Multiplayer', 'RPG', 'Open World', 'Strategy', 'Co-op', 'Fantasy', 'Sci-fi', 'Masterpiece', 'Simulation', '2D', 'First-Person', 'Puzzle', 'Third Person', 'Shooter', 'Funny', 'Casual', 'Survival', 'Difficult', 'Horror', 'Sandbox', 'Exploration', 'Female Protagonist', 'Early Access', 'Comedy', 'FPS', 'Gore', 'Point & Click', 'Online Co-Op', 'Choices Matter', 'Classic', 'Space', 'VR', 'Violent', 'Turn-Based', 'Platformer', 'Dark', 'Moddable', 'Hack and Slash', 'Local Co-Op', 'Mystery', 'Stealth', 'Nudity', 'Retro', 'Action RPG', 'Psychological Horror', 'Building', 'Isometric', 'Third-Person Shooter', 'Replay Value', 'Pixel Graphics', 'Mature', 'Walking Simulator', 'Short', 'Post-apocalyptic', 'Character Customization', 'Tactical', 'Free to Play', 'Massively Multiplayer', 'Crafting', 'Controller', 'Rogue-like', 'RTS', 'Historical', 'Turn-Based Strategy', 'Detective', 'Medieval', 'Dark Fantasy', 'War', 'Magic', 'Cyberpunk', 'Realistic', 'Side Scroller', 'Multiple Endings', 'Dystopian', 'Survival Horror', 'Visual Novel', 'Futuristic', 'Base Building', 'Kickstarter', 'Anime', 'Cute', 'CRPG', 'Colorful', 'Steampunk', 'Management', 'Zombies', 'Rogue-lite', 'Family Friendly', 'Dark Humor', 'Sexual Content', 'Parkour', 'Cult Classic', \"Beat 'em up\", 'Memes', 'Real-Time with Pause', 'Hand-drawn', 'Action-Adventure', 'Dungeon Crawler', 'Remake', 'Beautiful', 'Military', 'Top-Down', 'Fast-Paced', 'Metroidvania', 'Local Multiplayer', 'Arcade', 'Political', 'Crime', 'Aliens', 'Resource Management', '3D Platformer', 'Physics', '4X', 'Choose Your Own Adventure', \"1990's\", 'Relaxing', 'Card Game', 'Procedural Generation', 'PvP', 'City Builder', 'Thriller', '3D Vision', 'Dragons', 'Episodic', 'Music', 'Old School', 'Grand Strategy', 'Party-Based RPG', 'Economy', 'Alternate History', 'Fighting', 'Addictive', 'JRPG', 'Turn-Based Combat', 'Education', 'Sports', 'Cinematic', 'Noir', 'Lovecraftian', 'Team-Based', 'Perma Death', 'Robots', 'Crowdfunded', 'Tower Defense', 'Surreal', 'Puzzle-Platformer', 'Illuminati', 'Underwater', 'Board Game', 'Competitive', 'Interactive Fiction', 'FMV', 'Twin Stick Shooter', 'Time Travel', 'Villain Protagonist', 'Split Screen', 'Spectacle fighter', 'Loot', '4 Player Local', 'Space Sim', 'Racing', 'Mythology', 'Romance', 'Swordplay', 'Turn-Based Tactics', '2.5D', 'Destruction', 'Linear', 'MMORPG', 'Drama', 'Character Action Game', 'Hex Grid', 'Psychological', 'Supernatural', 'Narration', 'World War II', 'Hacking', 'Experimental', 'Hunting', 'Quick-Time Events', 'Politics', 'Mouse only', 'God Game', 'Cartoony', 'Souls-like', '1980s', 'Top-Down Shooter', 'Science', 'Touch-Friendly', 'Philisophical', 'Dynamic Narration', 'Based On A Novel', 'Level Editor', 'Hidden Object', 'Lara Croft', 'Real-Time', 'Battle Royale', 'Ninja', 'Real Time Tactics', 'Design & Illustration', 'Strategy RPG', 'Mechs', 'Comic Book', 'Assassin', 'Mod', 'Utilities', 'Psychedelic', 'Cats', 'Cartoon', 'Blood', 'Dungeons & Dragons', 'Tactical RPG', 'Dating Sim', 'Stylized', 'Satire', '3D', 'Heist', 'Nonlinear', 'Animation & Modeling', 'Gothic', 'Mars', 'Pirates', 'Trading', 'Voxel', 'Dinosaurs', 'Immersive Sim', 'Benchmark', 'Horses', 'Epic', 'Parody', 'Co-op Campaign', 'Programming', 'Investigation', 'Transhumanism', 'Emotional', 'Trains', 'Driving', 'Flight', 'Inventory Management', 'Dark Comedy', 'Score Attack', 'Trading Card Game', 'Automation', 'Minimalist', 'LGBTQ+', 'Naval', 'Time Manipulation', 'Bullet Time', 'Nature', 'Diplomacy', 'Submarine', 'PvE', 'Gun Customization', 'Rome', 'Demons', 'Martial Arts', 'Rhythm', 'Arena Shooter', 'RPGMaker', 'Batman', 'Superhero', 'Game Development', 'Offroad', 'Motocross', 'Motorbike', 'ATV', 'Bikes', 'Bullet Hell', \"Shoot 'Em Up\", 'Tennis', 'Underground', 'Intentionally Awkward Controls', 'Transportation', 'eSports', 'Chess', 'Western', 'Wargame', 'America', 'Capitalism', 'Sequel', 'Logic', 'Unforgiving', 'Warhammer 40K', 'Games Workshop', 'Audio Production', 'World War I', 'Soundtrack', 'Tanks', 'Documentary', 'Movie', 'Text-Based', 'Sniper', 'Clicker', 'Minigames', 'Snowboarding', 'Software', 'Sailing', 'Artificial Intelligence', 'Experience', 'MOBA', 'Typing', 'Conspiracy', 'Star Wars', 'Music-Based Procedural Generation', 'Silent Protagonist'])"
      ]
     },
     "execution_count": 255,
     "metadata": {},
     "output_type": "execute_result"
    }
   ],
   "source": [
    "t.keys()"
   ]
  },
  {
   "cell_type": "code",
   "execution_count": 256,
   "metadata": {},
   "outputs": [],
   "source": [
    "# all_tags = all_tags"
   ]
  },
  {
   "cell_type": "code",
   "execution_count": 257,
   "metadata": {},
   "outputs": [],
   "source": [
    "# 50 dim for tags"
   ]
  },
  {
   "cell_type": "code",
   "execution_count": 258,
   "metadata": {},
   "outputs": [
    {
     "data": {
      "text/plain": [
       "['./tags.pkl']"
      ]
     },
     "execution_count": 258,
     "metadata": {},
     "output_type": "execute_result"
    }
   ],
   "source": [
    "tags = [x[0] for x in all_tags]\n",
    "\n",
    "joblib.dump(tags, './tags.pkl')"
   ]
  },
  {
   "cell_type": "markdown",
   "metadata": {},
   "source": [
    "## For date"
   ]
  },
  {
   "cell_type": "code",
   "execution_count": 259,
   "metadata": {},
   "outputs": [],
   "source": [
    "# df[df['purchase_date'].isna().values==True]"
   ]
  },
  {
   "cell_type": "code",
   "execution_count": 260,
   "metadata": {},
   "outputs": [],
   "source": [
    "df['purchase_date'] = pd.to_datetime(df['purchase_date'], infer_datetime_format=True)\n",
    "df['release_date'] = pd.to_datetime(df['release_date'], infer_datetime_format=True)"
   ]
  },
  {
   "cell_type": "code",
   "execution_count": 261,
   "metadata": {},
   "outputs": [],
   "source": [
    "df['time_gap'] = df['purchase_date'] - df['release_date']"
   ]
  },
  {
   "cell_type": "code",
   "execution_count": 262,
   "metadata": {},
   "outputs": [
    {
     "data": {
      "text/plain": [
       "Timedelta('-481 days +00:00:00')"
      ]
     },
     "execution_count": 262,
     "metadata": {},
     "output_type": "execute_result"
    }
   ],
   "source": [
    "df['time_gap'].min()"
   ]
  },
  {
   "cell_type": "code",
   "execution_count": 263,
   "metadata": {},
   "outputs": [
    {
     "data": {
      "text/plain": [
       "Timedelta('4320 days 00:00:00')"
      ]
     },
     "execution_count": 263,
     "metadata": {},
     "output_type": "execute_result"
    }
   ],
   "source": [
    "df['time_gap'].max()"
   ]
  },
  {
   "cell_type": "code",
   "execution_count": 264,
   "metadata": {},
   "outputs": [
    {
     "data": {
      "text/plain": [
       "pandas._libs.tslibs.timedeltas.Timedelta"
      ]
     },
     "execution_count": 264,
     "metadata": {},
     "output_type": "execute_result"
    }
   ],
   "source": [
    "type(df['time_gap'].max())"
   ]
  },
  {
   "cell_type": "code",
   "execution_count": 265,
   "metadata": {},
   "outputs": [],
   "source": [
    "df['time_gap'] = (df['time_gap'] - df['time_gap'].min()) / (df['time_gap'].max() - df['time_gap'].min())"
   ]
  },
  {
   "cell_type": "code",
   "execution_count": null,
   "metadata": {},
   "outputs": [],
   "source": []
  },
  {
   "cell_type": "code",
   "execution_count": 266,
   "metadata": {},
   "outputs": [],
   "source": [
    "# 8 dim for date (each season)"
   ]
  },
  {
   "cell_type": "markdown",
   "metadata": {},
   "source": [
    "## For review"
   ]
  },
  {
   "cell_type": "code",
   "execution_count": 267,
   "metadata": {},
   "outputs": [],
   "source": [
    "df['average_review'] = df['total_positive_reviews'] / (df['total_positive_reviews'] + df['total_negative_reviews'])"
   ]
  },
  {
   "cell_type": "code",
   "execution_count": 268,
   "metadata": {},
   "outputs": [],
   "source": [
    "df.fillna(0.0, inplace=True)"
   ]
  },
  {
   "cell_type": "markdown",
   "metadata": {},
   "source": [
    "## Deal with NaN"
   ]
  },
  {
   "cell_type": "code",
   "execution_count": 269,
   "metadata": {},
   "outputs": [
    {
     "data": {
      "text/html": [
       "<div>\n",
       "<style scoped>\n",
       "    .dataframe tbody tr th:only-of-type {\n",
       "        vertical-align: middle;\n",
       "    }\n",
       "\n",
       "    .dataframe tbody tr th {\n",
       "        vertical-align: top;\n",
       "    }\n",
       "\n",
       "    .dataframe thead th {\n",
       "        text-align: right;\n",
       "    }\n",
       "</style>\n",
       "<table border=\"1\" class=\"dataframe\">\n",
       "  <thead>\n",
       "    <tr style=\"text-align: right;\">\n",
       "      <th></th>\n",
       "      <th>id</th>\n",
       "      <th>playtime_forever</th>\n",
       "      <th>is_free</th>\n",
       "      <th>price</th>\n",
       "      <th>genres</th>\n",
       "      <th>categories</th>\n",
       "      <th>tags</th>\n",
       "      <th>purchase_date</th>\n",
       "      <th>release_date</th>\n",
       "      <th>total_positive_reviews</th>\n",
       "      <th>total_negative_reviews</th>\n",
       "      <th>time_gap</th>\n",
       "      <th>average_review</th>\n",
       "    </tr>\n",
       "  </thead>\n",
       "  <tbody>\n",
       "  </tbody>\n",
       "</table>\n",
       "</div>"
      ],
      "text/plain": [
       "Empty DataFrame\n",
       "Columns: [id, playtime_forever, is_free, price, genres, categories, tags, purchase_date, release_date, total_positive_reviews, total_negative_reviews, time_gap, average_review]\n",
       "Index: []"
      ]
     },
     "execution_count": 269,
     "metadata": {},
     "output_type": "execute_result"
    }
   ],
   "source": [
    "df[df['total_negative_reviews'].isna().values==True]"
   ]
  },
  {
   "cell_type": "code",
   "execution_count": 270,
   "metadata": {},
   "outputs": [],
   "source": [
    "# df.drop([5, 76], inplace=True)"
   ]
  },
  {
   "cell_type": "markdown",
   "metadata": {},
   "source": [
    "## Deal with price"
   ]
  },
  {
   "cell_type": "code",
   "execution_count": 271,
   "metadata": {},
   "outputs": [],
   "source": [
    "df['price'] = (df['price'] - df['price'].min()) / (df['price'].max() - df['price'].min())"
   ]
  },
  {
   "cell_type": "markdown",
   "metadata": {},
   "source": [
    "## Data pre"
   ]
  },
  {
   "cell_type": "code",
   "execution_count": null,
   "metadata": {},
   "outputs": [],
   "source": []
  },
  {
   "cell_type": "code",
   "execution_count": 272,
   "metadata": {},
   "outputs": [],
   "source": [
    "# time_gap: -481 4320\n",
    "# price: 0.0 15999900.0\n",
    "# playtime_forever: 0.0 113.8"
   ]
  },
  {
   "cell_type": "code",
   "execution_count": 273,
   "metadata": {},
   "outputs": [
    {
     "data": {
      "text/plain": [
       "29"
      ]
     },
     "execution_count": 273,
     "metadata": {},
     "output_type": "execute_result"
    }
   ],
   "source": [
    "cats = [x[0] for x in all_cat]\n",
    "len(cats)"
   ]
  },
  {
   "cell_type": "code",
   "execution_count": 274,
   "metadata": {},
   "outputs": [
    {
     "data": {
      "text/plain": [
       "20"
      ]
     },
     "execution_count": 274,
     "metadata": {},
     "output_type": "execute_result"
    }
   ],
   "source": [
    "genres = [x for x in all_genres.keys()]\n",
    "len(genres)"
   ]
  },
  {
   "cell_type": "code",
   "execution_count": 275,
   "metadata": {},
   "outputs": [
    {
     "data": {
      "text/plain": [
       "312"
      ]
     },
     "execution_count": 275,
     "metadata": {},
     "output_type": "execute_result"
    }
   ],
   "source": [
    "tags = [x[0] for x in all_tags]\n",
    "len(tags)"
   ]
  },
  {
   "cell_type": "code",
   "execution_count": 277,
   "metadata": {},
   "outputs": [],
   "source": [
    "def training_data_prpare(data):\n",
    "    X = []\n",
    "    Y = []\n",
    "    for item in data.iterrows():\n",
    "        row = item[1]\n",
    "        tmp = []\n",
    "        Y.append(row['playtime_forever']/113.8)\n",
    "        # genres\n",
    "        row_g = row['genres'].split(',')\n",
    "        for g in genres:\n",
    "            if g in row_g:\n",
    "                tmp.append(1)\n",
    "            else:\n",
    "                tmp.append(0)\n",
    "        # cats\n",
    "        row_c = row['categories'].split(',')\n",
    "        for c in cats:\n",
    "            if c in row_c:\n",
    "                tmp.append(1)\n",
    "            else:\n",
    "                tmp.append(0)\n",
    "        # tags\n",
    "        row_t = row['tags'].split(',')\n",
    "        for t in tags:\n",
    "            if t in row_t:\n",
    "                tmp.append(1)\n",
    "            else:\n",
    "                tmp.append(0)\n",
    "        # is_free\n",
    "        if row['is_free']:\n",
    "            tmp.append(1)\n",
    "        else:\n",
    "            tmp.append(0)\n",
    "        # price\n",
    "        tmp.append(row['price'])\n",
    "        # timegap\n",
    "#         tmp.append(row['time_gap'])\n",
    "        # average_review\n",
    "        tmp.append(row['average_review'])\n",
    "        \n",
    "        X.append(tmp)\n",
    "    \n",
    "    return X, Y"
   ]
  },
  {
   "cell_type": "code",
   "execution_count": 278,
   "metadata": {},
   "outputs": [],
   "source": [
    "tx, ty = training_data_prpare(df)"
   ]
  },
  {
   "cell_type": "code",
   "execution_count": 279,
   "metadata": {},
   "outputs": [
    {
     "data": {
      "text/plain": [
       "['./training_vectors.pkl']"
      ]
     },
     "execution_count": 279,
     "metadata": {},
     "output_type": "execute_result"
    }
   ],
   "source": [
    "joblib.dump({'X': tx, 'Y': ty}, './training_vectors.pkl')"
   ]
  },
  {
   "cell_type": "code",
   "execution_count": 152,
   "metadata": {},
   "outputs": [
    {
     "data": {
      "text/plain": [
       "312"
      ]
     },
     "execution_count": 152,
     "metadata": {},
     "output_type": "execute_result"
    }
   ],
   "source": [
    "len(tags)"
   ]
  },
  {
   "cell_type": "code",
   "execution_count": 153,
   "metadata": {},
   "outputs": [
    {
     "data": {
      "text/plain": [
       "365"
      ]
     },
     "execution_count": 153,
     "metadata": {},
     "output_type": "execute_result"
    }
   ],
   "source": [
    "len(tx[0])"
   ]
  },
  {
   "cell_type": "code",
   "execution_count": 60,
   "metadata": {},
   "outputs": [],
   "source": [
    "t = np.isnan(tx)"
   ]
  },
  {
   "cell_type": "code",
   "execution_count": 61,
   "metadata": {},
   "outputs": [],
   "source": [
    "for i in range(len(t)):\n",
    "    for k in range(len(t[0])):\n",
    "        if t[i][k]:\n",
    "            print(k)"
   ]
  },
  {
   "cell_type": "code",
   "execution_count": 62,
   "metadata": {},
   "outputs": [
    {
     "data": {
      "text/plain": [
       "114"
      ]
     },
     "execution_count": 62,
     "metadata": {},
     "output_type": "execute_result"
    }
   ],
   "source": [
    "len(tx[0])"
   ]
  },
  {
   "cell_type": "code",
   "execution_count": 63,
   "metadata": {},
   "outputs": [
    {
     "data": {
      "text/plain": [
       "[0.0,\n",
       " 0.00014645577035735208,\n",
       " 0.0,\n",
       " 0.013473930872876393,\n",
       " 0.19625073227885176,\n",
       " 0.022993555946104277,\n",
       " 0.0013181019332161687,\n",
       " 0.00014645577035735208,\n",
       " 0.00014645577035735208,\n",
       " 0.0,\n",
       " 0.0,\n",
       " 0.0,\n",
       " 0.18072642062097247,\n",
       " 0.005565319273579379,\n",
       " 0.00014645577035735208,\n",
       " 0.02899824253075571,\n",
       " 0.0,\n",
       " 0.0,\n",
       " 0.0,\n",
       " 0.0014645577035735209,\n",
       " 0.014206209724663152,\n",
       " 0.0,\n",
       " 0.00043936731107205627,\n",
       " 0.0,\n",
       " 0.0,\n",
       " 0.0019039250146455772,\n",
       " 0.0,\n",
       " 0.0,\n",
       " 0.03705330990041008,\n",
       " 0.03749267721148213,\n",
       " 0.03807850029291154,\n",
       " 0.018453427065026364,\n",
       " 0.008055067369654363,\n",
       " 0.0,\n",
       " 0.025043936731107205,\n",
       " 0.497949619214997,\n",
       " 0.0,\n",
       " 0.03968951376684241,\n",
       " 0.027094317516110134,\n",
       " 0.0,\n",
       " 0.014938488576449912,\n",
       " 0.10120093731693029,\n",
       " 0.057117750439367315,\n",
       " 0.007762155828939661,\n",
       " 0.004100761570005858,\n",
       " 0.0,\n",
       " 0.0,\n",
       " 0.0,\n",
       " 0.00351493848857645,\n",
       " 0.0027826596367896894,\n",
       " 0.0,\n",
       " 0.0,\n",
       " 0.017428236672524893,\n",
       " 0.1278558875219684,\n",
       " 0.001757469244288225,\n",
       " 0.034563561804335084,\n",
       " 0.0,\n",
       " 0.02885178676039836,\n",
       " 0.0,\n",
       " 0.0032220269478617446,\n",
       " 0.007615700058582309,\n",
       " 0.0,\n",
       " 0.0,\n",
       " 0.0,\n",
       " 0.0,\n",
       " 0.0,\n",
       " 0.00497949619214997,\n",
       " 0.014352665495020504,\n",
       " 0.009666080843585239,\n",
       " 0.0,\n",
       " 0.004100761570005858,\n",
       " 0.009666080843585239,\n",
       " 0.0,\n",
       " 0.0011716461628588166,\n",
       " 0.0,\n",
       " 0.026947861745752786,\n",
       " 0.0,\n",
       " 0.01625659050966608,\n",
       " 0.0,\n",
       " 0.00043936731107205627,\n",
       " 0.05199179847686,\n",
       " 0.05594610427650849,\n",
       " 0.0,\n",
       " 0.0011716461628588166,\n",
       " 0.0010251903925014645,\n",
       " 0.0,\n",
       " 0.0,\n",
       " 0.027094317516110134,\n",
       " 0.28793204452255416,\n",
       " 0.0008787346221441125,\n",
       " 0.0,\n",
       " 0.0,\n",
       " 0.003954305799648506,\n",
       " 0.013473930872876393,\n",
       " 0.0,\n",
       " 0.0,\n",
       " 0.0,\n",
       " 0.0,\n",
       " 0.0070298769771529,\n",
       " 0.0008787346221441125,\n",
       " 0.02460456942003515,\n",
       " 0.0,\n",
       " 0.004393673110720563,\n",
       " 0.0,\n",
       " 0.0,\n",
       " 0.00029291154071470416,\n",
       " 0.0,\n",
       " 0.014792032806092559,\n",
       " 0.0,\n",
       " 0.0021968365553602814,\n",
       " 0.0007322788517867604,\n",
       " 0.015377855887521968,\n",
       " 0.0,\n",
       " 0.001757469244288225,\n",
       " 0.0,\n",
       " 0.0,\n",
       " 0.012448740480374927,\n",
       " 0.022261277094317515,\n",
       " 0.020210896309314587,\n",
       " 0.0,\n",
       " 0.004393673110720563,\n",
       " 0.0046865846514352666,\n",
       " 0.0,\n",
       " 0.0,\n",
       " 0.0011716461628588166,\n",
       " 0.0,\n",
       " 0.0,\n",
       " 0.0,\n",
       " 0.012302284710017574,\n",
       " 0.00014645577035735208,\n",
       " 0.005565319273579379,\n",
       " 0.4339484475688342,\n",
       " 0.0,\n",
       " 0.0,\n",
       " 0.007469244288224956,\n",
       " 0.0,\n",
       " 0.006151142355008787,\n",
       " 0.0,\n",
       " 0.0,\n",
       " 0.0,\n",
       " 0.004393673110720563,\n",
       " 0.03705330990041008,\n",
       " 0.0,\n",
       " 0.0,\n",
       " 0.0,\n",
       " 0.0,\n",
       " 0.0,\n",
       " 0.017135325131810195,\n",
       " 0.0,\n",
       " 0.014792032806092559,\n",
       " 0.0,\n",
       " 0.0014645577035735209,\n",
       " 0.008494434680726422,\n",
       " 0.0008787346221441125,\n",
       " 0.0,\n",
       " 0.001757469244288225,\n",
       " 0.028412419449326303,\n",
       " 0.0,\n",
       " 0.1121851200937317,\n",
       " 0.08787346221441125,\n",
       " 0.0,\n",
       " 0.45064440538957234,\n",
       " 0.0,\n",
       " 0.0,\n",
       " 0.0,\n",
       " 0.21909783245459868,\n",
       " 0.015524311657879321,\n",
       " 0.004393673110720563,\n",
       " 0.021968365553602813,\n",
       " 0.0,\n",
       " 0.0,\n",
       " 0.015377855887521968,\n",
       " 0.0,\n",
       " 0.0,\n",
       " 0.0,\n",
       " 0.0007322788517867604,\n",
       " 0.0,\n",
       " 0.00043936731107205627,\n",
       " 0.0,\n",
       " 0.0029291154071470417,\n",
       " 0.0,\n",
       " 0.12683069712946693,\n",
       " 0.0,\n",
       " 0.007322788517867605,\n",
       " 0.03705330990041008,\n",
       " 0.00029291154071470416,\n",
       " 0.0,\n",
       " 0.005272407732864675,\n",
       " 0.008640890451083771,\n",
       " 0.001757469244288225,\n",
       " 0.05550673696543644,\n",
       " 0.0,\n",
       " 0.0,\n",
       " 0.018599882835383715,\n",
       " 0.023140011716461628,\n",
       " 0.8140011716461629,\n",
       " 0.0,\n",
       " 0.0,\n",
       " 0.0,\n",
       " 0.0,\n",
       " 0.010251903925014646,\n",
       " 0.010984182776801407,\n",
       " 0.012302284710017574,\n",
       " 0.00014645577035735208,\n",
       " 0.0027826596367896894,\n",
       " 0.0,\n",
       " 0.06502636203866433,\n",
       " 0.02372583479789104,\n",
       " 0.0,\n",
       " 0.0,\n",
       " 0.03676039835969538,\n",
       " 0.10120093731693029,\n",
       " 0.05536028119507909,\n",
       " 0.0,\n",
       " 0.0013181019332161687,\n",
       " 0.0,\n",
       " 0.08684827182190978,\n",
       " 0.0036613942589338025,\n",
       " 0.08509080257762157,\n",
       " 0.28104862331575864,\n",
       " 0.06605155243116578,\n",
       " 0.0,\n",
       " 0.0,\n",
       " 0.026654950205038077,\n",
       " 0.0418863503222027,\n",
       " 0.019332161687170477,\n",
       " 0.04745166959578208,\n",
       " 0.0007322788517867604,\n",
       " 0.04422964264792033,\n",
       " 0.0021968365553602814,\n",
       " 0.0,\n",
       " 0.00014645577035735208,\n",
       " 0.04730521382542473,\n",
       " 0.0,\n",
       " 0.25468658465143523,\n",
       " 0.0,\n",
       " 0.0057117750439367315,\n",
       " 0.0,\n",
       " 0.0019039250146455772,\n",
       " 0.0,\n",
       " 0.0,\n",
       " 0.0,\n",
       " 0.07923257176332749,\n",
       " 0.0021968365553602814,\n",
       " 0.0,\n",
       " 0.0,\n",
       " 0.0,\n",
       " 0.0014645577035735209,\n",
       " 0.04496192149970708,\n",
       " 0.03998242530755712,\n",
       " 0.02738722905682484,\n",
       " 0.0,\n",
       " 0.0,\n",
       " 0.0036613942589338025,\n",
       " 0.0,\n",
       " 0.00014645577035735208,\n",
       " 0.02387229056824839,\n",
       " 0.00029291154071470416,\n",
       " 0.027826596367896896,\n",
       " 0.0,\n",
       " 0.0,\n",
       " 0.008933801991798477,\n",
       " 0.0,\n",
       " 0.0008787346221441125,\n",
       " 0.04496192149970708,\n",
       " 0.0011716461628588166,\n",
       " 0.008055067369654363,\n",
       " 0.6915641476274166,\n",
       " 0.015524311657879321,\n",
       " 0.0,\n",
       " 0.0,\n",
       " 0.0,\n",
       " 0.0,\n",
       " 1.0,\n",
       " 0.01186291739894552,\n",
       " 0.0,\n",
       " 0.0,\n",
       " 0.0,\n",
       " 0.01200937316930287,\n",
       " 0.002050380785002929,\n",
       " 0.0,\n",
       " 0.009519625073227884,\n",
       " 0.0,\n",
       " 0.006444053895723491,\n",
       " 0.0,\n",
       " 0.002489748096074985,\n",
       " 0.0,\n",
       " 0.0,\n",
       " 0.005418863503222028,\n",
       " 0.0,\n",
       " 0.0,\n",
       " 0.0,\n",
       " 0.0023432923257176333,\n",
       " 0.022847100175746926,\n",
       " 0.021821909783245462,\n",
       " 0.0,\n",
       " 0.0,\n",
       " 0.02533684827182191,\n",
       " 0.002050380785002929,\n",
       " 0.002050380785002929,\n",
       " 0.0013181019332161687,\n",
       " 0.0036613942589338025,\n",
       " 0.0,\n",
       " 0.00629759812536614,\n",
       " 0.0,\n",
       " 0.00029291154071470416,\n",
       " 0.19639718804920916,\n",
       " 0.18116578793204452,\n",
       " 0.0,\n",
       " 0.0,\n",
       " 0.0014645577035735209,\n",
       " 0.0,\n",
       " 0.0,\n",
       " 0.0,\n",
       " 0.0,\n",
       " 0.00043936731107205627,\n",
       " 0.017721148213239602,\n",
       " 0.007176332747510252,\n",
       " 0.0,\n",
       " 0.0,\n",
       " 0.01200937316930287,\n",
       " 0.011130638547158758,\n",
       " 0.002489748096074985,\n",
       " 0.027680140597539545,\n",
       " 0.0,\n",
       " 0.0,\n",
       " 0.0,\n",
       " 0.02094317516110135,\n",
       " 0.0,\n",
       " 0.022261277094317515,\n",
       " 0.0027826596367896894,\n",
       " 0.0,\n",
       " 0.0,\n",
       " 0.0,\n",
       " 0.006004686584651435,\n",
       " 0.0,\n",
       " 0.0,\n",
       " 0.051698886936145286,\n",
       " 0.0007322788517867604,\n",
       " 0.005418863503222028,\n",
       " 0.00981253661394259,\n",
       " 0.0,\n",
       " 0.00043936731107205627,\n",
       " 0.5606326889279437,\n",
       " 0.0,\n",
       " 0.20767428236672522,\n",
       " 0.0,\n",
       " 0.0029291154071470417,\n",
       " 0.021528998242530756,\n",
       " 0.0,\n",
       " 0.0068834212067955475,\n",
       " 0.0,\n",
       " 0.0,\n",
       " 0.0,\n",
       " 0.0]"
      ]
     },
     "execution_count": 63,
     "metadata": {},
     "output_type": "execute_result"
    }
   ],
   "source": [
    "ty"
   ]
  },
  {
   "cell_type": "code",
   "execution_count": null,
   "metadata": {},
   "outputs": [],
   "source": []
  },
  {
   "cell_type": "code",
   "execution_count": null,
   "metadata": {},
   "outputs": [],
   "source": []
  },
  {
   "cell_type": "code",
   "execution_count": 64,
   "metadata": {},
   "outputs": [
    {
     "data": {
      "text/plain": [
       "['Atmospheric',\n",
       " 'Great Soundtrack',\n",
       " 'Story Rich',\n",
       " 'Multiplayer',\n",
       " 'RPG',\n",
       " 'Open World',\n",
       " 'Strategy',\n",
       " 'Co-op',\n",
       " 'Sci-fi',\n",
       " 'Fantasy',\n",
       " 'Masterpiece',\n",
       " 'Simulation',\n",
       " 'First-Person',\n",
       " '2D',\n",
       " 'Puzzle',\n",
       " 'Third Person',\n",
       " 'Shooter',\n",
       " 'Funny',\n",
       " 'Casual',\n",
       " 'Horror',\n",
       " 'Sandbox',\n",
       " 'Difficult',\n",
       " 'Survival',\n",
       " 'Exploration',\n",
       " 'Female Protagonist',\n",
       " 'Early Access',\n",
       " 'Comedy',\n",
       " 'FPS',\n",
       " 'Gore',\n",
       " 'Point & Click',\n",
       " 'Online Co-Op',\n",
       " 'Choices Matter',\n",
       " 'Classic',\n",
       " 'Space',\n",
       " 'VR',\n",
       " 'Turn-Based',\n",
       " 'Platformer',\n",
       " 'Violent',\n",
       " 'Dark',\n",
       " 'Moddable',\n",
       " 'Hack and Slash',\n",
       " 'Local Co-Op',\n",
       " 'Mystery',\n",
       " 'Stealth',\n",
       " 'Nudity',\n",
       " 'Retro',\n",
       " 'Psychological Horror',\n",
       " 'Action RPG',\n",
       " 'Building',\n",
       " 'Third-Person Shooter',\n",
       " 'Replay Value',\n",
       " 'Isometric',\n",
       " 'Pixel Graphics',\n",
       " 'Mature',\n",
       " 'Walking Simulator',\n",
       " 'Short',\n",
       " 'Character Customization',\n",
       " 'Tactical',\n",
       " 'Free to Play',\n",
       " 'Post-apocalyptic',\n",
       " 'Massively Multiplayer',\n",
       " 'Crafting',\n",
       " 'Controller',\n",
       " 'Rogue-like',\n",
       " 'RTS',\n",
       " 'Historical']"
      ]
     },
     "execution_count": 64,
     "metadata": {},
     "output_type": "execute_result"
    }
   ],
   "source": [
    "tags"
   ]
  },
  {
   "cell_type": "code",
   "execution_count": null,
   "metadata": {},
   "outputs": [],
   "source": []
  },
  {
   "cell_type": "code",
   "execution_count": null,
   "metadata": {},
   "outputs": [],
   "source": []
  },
  {
   "cell_type": "code",
   "execution_count": null,
   "metadata": {},
   "outputs": [],
   "source": []
  },
  {
   "cell_type": "code",
   "execution_count": null,
   "metadata": {},
   "outputs": [],
   "source": []
  },
  {
   "cell_type": "code",
   "execution_count": null,
   "metadata": {},
   "outputs": [],
   "source": []
  },
  {
   "cell_type": "code",
   "execution_count": null,
   "metadata": {},
   "outputs": [],
   "source": []
  },
  {
   "cell_type": "code",
   "execution_count": null,
   "metadata": {},
   "outputs": [],
   "source": []
  },
  {
   "cell_type": "code",
   "execution_count": null,
   "metadata": {},
   "outputs": [],
   "source": []
  },
  {
   "cell_type": "code",
   "execution_count": null,
   "metadata": {},
   "outputs": [],
   "source": []
  },
  {
   "cell_type": "code",
   "execution_count": null,
   "metadata": {},
   "outputs": [],
   "source": []
  },
  {
   "cell_type": "code",
   "execution_count": null,
   "metadata": {},
   "outputs": [],
   "source": []
  },
  {
   "cell_type": "code",
   "execution_count": null,
   "metadata": {},
   "outputs": [],
   "source": []
  },
  {
   "cell_type": "code",
   "execution_count": null,
   "metadata": {},
   "outputs": [],
   "source": []
  }
 ],
 "metadata": {
  "kernelspec": {
   "display_name": "Python 3",
   "language": "python",
   "name": "python3"
  },
  "language_info": {
   "codemirror_mode": {
    "name": "ipython",
    "version": 3
   },
   "file_extension": ".py",
   "mimetype": "text/x-python",
   "name": "python",
   "nbconvert_exporter": "python",
   "pygments_lexer": "ipython3",
   "version": "3.7.4"
  }
 },
 "nbformat": 4,
 "nbformat_minor": 2
}
